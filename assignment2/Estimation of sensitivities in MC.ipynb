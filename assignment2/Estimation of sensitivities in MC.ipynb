{
 "cells": [
  {
   "cell_type": "code",
   "execution_count": 88,
   "metadata": {},
   "outputs": [],
   "source": [
    "T = 1\n",
    "sigma = 0.2\n",
    "r = 0.06\n",
    "s0 = 100\n",
    "epsilon = 0.01 #change between 0.01, 0.02, and 0.5\n",
    "s_bumped = s0 + epsilon\n",
    "K = 99\n",
    "N = 365\n",
    "dt = T/N\n",
    "M = 10**4"
   ]
  },
  {
   "cell_type": "code",
   "execution_count": 108,
   "metadata": {},
   "outputs": [
    {
     "name": "stdout",
     "output_type": "stream",
     "text": [
      "random price of stock =  148.84356880859778\n",
      "(11.140825538098973, 11.543525256914798, 40.26997188158248)\n"
     ]
    }
   ],
   "source": [
    "import numpy as np\n",
    "\n",
    "#stock price paths\n",
    "np.random.seed(3) #same/different seed for approx_delta for experiment\n",
    "\n",
    "def pricing(s0,r,T,sigma):\n",
    "    Z = np.random.normal(0,1)\n",
    "    S_T = s0*np.exp((r-0.5*sigma**2)*T+sigma*np.sqrt(T)*Z)\n",
    "    return S_T\n",
    "\n",
    "print(\"random price of stock = \", pricing(s0,r,T,sigma))\n",
    "\n",
    "\n",
    "#option value formula, use twice for bumped and unbumped values\n",
    "\n",
    "def option_value(s0,r,T,sigma,K,M):\n",
    "   \n",
    "    thesum = 0\n",
    "    \n",
    "    for i in range(M):\n",
    "        thesum += max(pricing(s0,r,T,sigma)-K, 0)\n",
    "        \n",
    "    average = thesum/M\n",
    "    price = np.exp(-r*T)*average\n",
    "    return(price)\n",
    "\n",
    "\n",
    "#euler approx of delta at time = t:\n",
    "def approx_delta():\n",
    "    unbumped = option_value(s0,r,T,sigma,K,M)\n",
    "    bumped = option_value(s_bumped,r,T,sigma,K,M)\n",
    "    delta = ((bumped - unbumped) / epsilon)\n",
    "    return unbumped, bumped, delta\n",
    "\n",
    "print(approx_delta())"
   ]
  },
  {
   "cell_type": "code",
   "execution_count": 163,
   "metadata": {},
   "outputs": [
    {
     "name": "stdout",
     "output_type": "stream",
     "text": [
      "bumped:  4.944006317963819\n",
      "unbumped:  4.940617688104622\n",
      "delta:  -0.33886298591969677\n",
      "BS delta:  -0.34088451169481104\n",
      "Difference w/ analytic BS:  0.0020215257751142746\n"
     ]
    }
   ],
   "source": [
    "from scipy.stats import norm\n",
    "import numpy as np\n",
    "\n",
    "np.random.seed(3)\n",
    "random = [np.random.normal(0,1) for x in range(M)]\n",
    "\n",
    "def MC_ultimate_function():\n",
    "    \n",
    "    stocks = []\n",
    "    stocks_b = []\n",
    "    \n",
    "    payoffs = []\n",
    "    payoffs_b = []\n",
    "    \n",
    "    for Z in random:\n",
    "        S_T = s0*np.exp((r-0.5*sigma**2)*T+sigma*np.sqrt(T)*Z)     \n",
    "        S_T_bumped = s_bumped*np.exp((r-0.5*sigma**2)*T+sigma*np.sqrt(T)*Z)\n",
    "    \n",
    "        stocks.append(S_T)\n",
    "        stocks_b.append(S_T_bumped)\n",
    "    \n",
    "    \n",
    "        payoff = max(K - S_T, 0)\n",
    "        payoff_b = max(K - S_T_bumped, 0)\n",
    "        \n",
    "        payoffs.append(payoff)\n",
    "        payoffs_b.append(payoff_b)\n",
    "        \n",
    "    average = sum(payoffs) / len(payoffs)\n",
    "    average_b = sum(payoffs_b) / len(payoffs_b)\n",
    "    \n",
    "    price = np.exp(-r*T)*average\n",
    "    price_b = np.exp(-r*T)*average_b\n",
    "    \n",
    "    \n",
    "    delta = (price_b - price) / epsilon\n",
    "    \n",
    "    d1 = np.log(s0/K) + T*(r+(sigma**2/2))/sigma*np.sqrt(T)\n",
    "    \n",
    "    BS_delta = norm.cdf(d1) - 1\n",
    "    \n",
    "    error = delta - BS_delta\n",
    "    \n",
    "    return price, price_b, delta, BS_delta, error\n",
    "\n",
    "\n",
    "print(\"bumped: \" , MC_ultimate_function()[0])\n",
    "print(\"unbumped: \" , MC_ultimate_function()[1])\n",
    "print(\"delta: \" , MC_ultimate_function()[2])\n",
    "print(\"BS delta: \", MC_ultimate_function()[3])\n",
    "print(\"Difference w/ analytic BS: \", MC_ultimate_function()[4])"
   ]
  },
  {
   "cell_type": "markdown",
   "metadata": {},
   "source": [
    "# digital option"
   ]
  },
  {
   "cell_type": "code",
   "execution_count": 91,
   "metadata": {},
   "outputs": [
    {
     "name": "stdout",
     "output_type": "stream",
     "text": [
      "0.5651528966039077\n"
     ]
    }
   ],
   "source": [
    "import matplotlib.pyplot as plt\n",
    "\n",
    "def digital_payoff():\n",
    "    if pricing(s0,r,T,sigma) < K:\n",
    "        payoff = 0\n",
    "    else:\n",
    "        payoff = 1\n",
    "    return payoff\n",
    "\n",
    "def digital_option_value(s0,r,T,sigma,K,M):\n",
    "   \n",
    "    thesum = 0\n",
    "    \n",
    "    for i in range(M):\n",
    "        thesum += digital_payoff()\n",
    "        \n",
    "    average = thesum/M\n",
    "    price = np.exp(-r*T)*average\n",
    "    return(price)\n",
    "\n",
    "print(digital_option_value(s0,r,T,sigma,K,M))"
   ]
  },
  {
   "cell_type": "code",
   "execution_count": null,
   "metadata": {},
   "outputs": [],
   "source": []
  },
  {
   "cell_type": "code",
   "execution_count": null,
   "metadata": {},
   "outputs": [],
   "source": []
  }
 ],
 "metadata": {
  "kernelspec": {
   "display_name": "Python 3",
   "language": "python",
   "name": "python3"
  },
  "language_info": {
   "codemirror_mode": {
    "name": "ipython",
    "version": 3
   },
   "file_extension": ".py",
   "mimetype": "text/x-python",
   "name": "python",
   "nbconvert_exporter": "python",
   "pygments_lexer": "ipython3",
   "version": "3.7.0"
  }
 },
 "nbformat": 4,
 "nbformat_minor": 2
}
