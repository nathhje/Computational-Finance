{
 "cells": [
  {
   "cell_type": "code",
   "execution_count": 4,
   "metadata": {},
   "outputs": [],
   "source": [
    "T = 1\n",
    "sigma = 0.2\n",
    "r = 0.06\n",
    "s0 = 100\n",
    "epsilon = 0.01 #change between 0.01, 0.02, and 0.5\n",
    "s_bumped = s0 + epsilon\n",
    "K = 99\n",
    "N = 365\n",
    "dt = T/N\n",
    "M = 10**4\n",
    "\n",
    "\n",
    "\n",
    "\n",
    "#sigma(payoff)/sqrt(N)"
   ]
  },
  {
   "cell_type": "markdown",
   "metadata": {},
   "source": [
    "## use this function"
   ]
  },
  {
   "cell_type": "code",
   "execution_count": 5,
   "metadata": {},
   "outputs": [],
   "source": [
    "from scipy.stats import norm\n",
    "import numpy as np\n",
    "\n",
    "def MC_ultimate_function(M, epsilon):\n",
    "    \n",
    "    #use same or different seeds for experiment \n",
    "    np.random.seed(1)\n",
    "    random = [np.random.normal(0,1) for x in range(M)]\n",
    "    \n",
    "    np.random.seed(4)\n",
    "    random1 = [np.random.normal(0,1) for x in range(M)]\n",
    "    \n",
    "    \n",
    "    payoffs = []\n",
    "    payoffs_b = []\n",
    "    \n",
    "    for Z in random:\n",
    "        S_T = s0*np.exp((r-0.5*sigma**2)*T+sigma*np.sqrt(T)*Z)     \n",
    "    \n",
    "        payoff = max(K - S_T, 0)\n",
    "                \n",
    "        payoffs.append(payoff)\n",
    "        \n",
    "    \n",
    "    for Z in random1:\n",
    "        S_T_bumped = s_bumped*np.exp((r-0.5*sigma**2)*T+sigma*np.sqrt(T)*Z)\n",
    "    \n",
    "        payoff_b = max(K - S_T_bumped, 0)\n",
    "        \n",
    "        payoffs_b.append(payoff_b)\n",
    "   \n",
    "\n",
    "\n",
    "    price = np.exp(-r*T)*np.mean(payoffs)\n",
    "    price_b = np.exp(-r*T)*np.mean(payoffs_b)\n",
    "    \n",
    "    \n",
    "    delta = (price_b - price) / epsilon\n",
    "    \n",
    "    d1 = np.log(s0/K) + T*(r+(sigma**2/2))/sigma*np.sqrt(T)\n",
    "    \n",
    "    BS_delta = norm.cdf(d1) - 1\n",
    "    \n",
    "    error = abs(delta - BS_delta)\n",
    "    \n",
    "    rel_error = abs(error / BS_delta)\n",
    "    \n",
    "    return delta, BS_delta, rel_error\n",
    "\n",
    "\n"
   ]
  },
  {
   "cell_type": "markdown",
   "metadata": {},
   "source": [
    "# Same seed results"
   ]
  },
  {
   "cell_type": "code",
   "execution_count": 26,
   "metadata": {},
   "outputs": [
    {
     "name": "stdout",
     "output_type": "stream",
     "text": [
      "bs delta =  -0.34088451169481104\n",
      "\n",
      "10.000 runs\n",
      "delta:  4.24027678963812\n",
      "rel. error:  13.439042092456162\n",
      "\n",
      "delta:  2.12013839481906\n",
      "rel. error:  7.219521046228081\n",
      "\n",
      "delta:  0.0848055357927624\n",
      "rel. error:  1.2487808418491233\n",
      "\n",
      "100.000 runs\n",
      "delta:  2.989987639831071\n",
      "rel. error:  9.771262809698914\n",
      "\n",
      "delta:  1.4949938199155355\n",
      "rel. error:  7.219521046228081\n",
      "\n",
      "delta:  1.1754252561939782\n",
      "rel. error:  1.2487808418491233\n",
      "\n",
      "1.000.000 runs\n",
      "delta:  1.8425840820811779\n",
      "rel. error:  6.405303024535232\n",
      "\n",
      "delta:  0.9212920410405889\n",
      "rel. error:  3.702651512267616\n",
      "\n",
      "delta:  0.03685168164162356\n",
      "rel. error:  1.1081060604907047\n"
     ]
    }
   ],
   "source": [
    "print(\"bs delta = \", MC_ultimate_function(10**4, 0.01)[1])\n",
    "print()\n",
    "print(\"10.000 runs\")\n",
    "print(\"delta: \", MC_ultimate_function(10**4, 0.01)[0])\n",
    "print(\"rel. error: \", MC_ultimate_function(10**4, 0.01)[2])\n",
    "print()\n",
    "print(\"delta: \", MC_ultimate_function(10**4, 0.02)[0])\n",
    "print(\"rel. error: \", MC_ultimate_function(10**4, 0.02)[2])\n",
    "print()\n",
    "print(\"delta: \", MC_ultimate_function(10**4, 0.5)[0])\n",
    "print(\"rel. error: \", MC_ultimate_function(10**4, 0.5)[2])\n",
    "print()\n",
    "print(\"100.000 runs\")\n",
    "print(\"delta: \", MC_ultimate_function(10**5, 0.01)[0])\n",
    "print(\"rel. error: \", MC_ultimate_function(10**5, 0.01)[2])\n",
    "print()\n",
    "print(\"delta: \", MC_ultimate_function(10**5, 0.02)[0])\n",
    "print(\"rel. error: \", MC_ultimate_function(10**4, 0.02)[2])\n",
    "print()\n",
    "print(\"delta: \", MC_ultimate_function(10**5, 0.5)[2])\n",
    "print(\"rel. error: \", MC_ultimate_function(10**4, 0.5)[2])\n",
    "print()\n",
    "print(\"1.000.000 runs\")\n",
    "print(\"delta: \", MC_ultimate_function(10**6, 0.01)[0])\n",
    "print(\"rel. error: \", MC_ultimate_function(10**6, 0.01)[2])\n",
    "print()\n",
    "print(\"delta: \", MC_ultimate_function(10**6, 0.02)[0])\n",
    "print(\"rel. error: \", MC_ultimate_function(10**6, 0.02)[2])\n",
    "print()\n",
    "print(\"delta: \", MC_ultimate_function(10**6, 0.5)[0])\n",
    "print(\"rel. error: \", MC_ultimate_function(10**6, 0.5)[2])"
   ]
  },
  {
   "cell_type": "code",
   "execution_count": null,
   "metadata": {},
   "outputs": [],
   "source": []
  },
  {
   "cell_type": "code",
   "execution_count": null,
   "metadata": {},
   "outputs": [],
   "source": []
  },
  {
   "cell_type": "markdown",
   "metadata": {},
   "source": [
    "# digital option"
   ]
  },
  {
   "cell_type": "code",
   "execution_count": 10,
   "metadata": {},
   "outputs": [],
   "source": [
    "def MC_ultimate_digital_function(M, epsilon):\n",
    "    \n",
    "    #use same or different seeds for experiment \n",
    "    np.random.seed()\n",
    "    random = [np.random.normal(0,1) for x in range(M)]\n",
    "    \n",
    "    \n",
    "    stocks = []\n",
    "    stocks_b = []\n",
    "    \n",
    "    payoffs = []\n",
    "    payoffs_b = []\n",
    "    \n",
    "    \n",
    "    for Z in random:\n",
    "        S_T = s0*np.exp((r-0.5*sigma**2)*T+sigma*np.sqrt(T)*Z)     \n",
    "        S_T_bumped = s_bumped*np.exp((r-0.5*sigma**2)*T+sigma*np.sqrt(T)*Z)\n",
    "    \n",
    "        stocks.append(S_T)\n",
    "        stocks_b.append(S_T_bumped)\n",
    "    \n",
    "        if S_T > K:\n",
    "            payoffs.append(1)\n",
    "        else:\n",
    "            payoffs.append(0)\n",
    "            \n",
    "            \n",
    "        if S_T_bumped > K:\n",
    "            payoffs_b.append(1)\n",
    "        else:\n",
    "            payoffs_b.append(0)\n",
    "        \n",
    "    average = sum(payoffs) / len(payoffs)\n",
    "    average_b = sum(payoffs_b) / len(payoffs_b)\n",
    "    \n",
    "    price = np.exp(-r*T)*average\n",
    "    price_b = np.exp(-r*T)*average_b\n",
    "    \n",
    "    \n",
    "    delta = (price_b - price) / epsilon\n",
    "    \n",
    "    d2 = np.log(s0/K) + T*(r-(sigma**2/2))/sigma*np.sqrt(T)\n",
    "    \n",
    "    BS_delta = (np.exp(-r*T)*norm.pdf(d2))/(S_T*sigma*np.sqrt(T))\n",
    "        \n",
    "    error = abs(delta - BS_delta)\n",
    "    \n",
    "    rel_error = abs((delta - BS_delta) / BS_delta)\n",
    "    \n",
    "    return price, price_b, delta, BS_delta, error, rel_error"
   ]
  },
  {
   "cell_type": "code",
   "execution_count": 11,
   "metadata": {},
   "outputs": [
    {
     "name": "stdout",
     "output_type": "stream",
     "text": [
      "0.018835290671681548\n",
      "0.29917889493466304\n",
      "0.3460466331594019\n",
      "0.9760620975521265\n",
      "\n",
      "0.476937882570586\n",
      "0.5590920649543439\n",
      "0.9821676906474828\n",
      "\n",
      "0.05929090964397564\n",
      "0.5981145853900441\n",
      "0.9753522167853785\n"
     ]
    }
   ],
   "source": [
    "print(MC_ultimate_digital_function(10**4, 0.01)[2])\n",
    "\n",
    "print(MC_ultimate_digital_function(10**4, 0.01)[5])\n",
    "print(MC_ultimate_digital_function(10**4, 0.02)[5])\n",
    "print(MC_ultimate_digital_function(10**4, 0.5)[5])\n",
    "print()\n",
    "print(MC_ultimate_digital_function(10**5, 0.01)[5])\n",
    "print(MC_ultimate_digital_function(10**5, 0.02)[5])\n",
    "print(MC_ultimate_digital_function(10**5, 0.5)[5])\n",
    "print()\n",
    "print(MC_ultimate_digital_function(10**6, 0.01)[5])\n",
    "print(MC_ultimate_digital_function(10**6, 0.02)[5])\n",
    "print(MC_ultimate_digital_function(10**6, 0.5)[5])"
   ]
  },
  {
   "cell_type": "markdown",
   "metadata": {},
   "source": [
    "# pathwise method"
   ]
  },
  {
   "cell_type": "code",
   "execution_count": 7,
   "metadata": {},
   "outputs": [],
   "source": [
    "def pathwise():\n",
    "    \n",
    "    deltas = []\n",
    "    \n",
    "    \n",
    "    S_T = s0*np.exp((r-0.5*sigma**2)*T+sigma*np.sqrt(T)*Z)\n",
    "    delta = np.exp(-r*T)*1*(S_T/s0)\n",
    "    \n",
    "    return delta"
   ]
  },
  {
   "cell_type": "markdown",
   "metadata": {},
   "source": [
    "# likelihood ratio method"
   ]
  },
  {
   "cell_type": "code",
   "execution_count": null,
   "metadata": {},
   "outputs": [],
   "source": [
    "def likelihood():\n",
    "    \n",
    "    np.random.seed()\n",
    "    random = [np.random.normal(0,1) for x in range(M)]\n",
    "    \n",
    "    stocks = []\n",
    "    payoffs = []\n",
    "    \n",
    "    for Z in random:\n",
    "        if S_T > K:\n",
    "            payoff\n",
    "        \n",
    "        delta = np.exp(-r*T)*payoff*(Z/(sigma*s0*np.sqrt(T)))\n",
    "    \n",
    "    \n",
    "    \n",
    "    return delta\n",
    "\n"
   ]
  }
 ],
 "metadata": {
  "kernelspec": {
   "display_name": "Python 3",
   "language": "python",
   "name": "python3"
  },
  "language_info": {
   "codemirror_mode": {
    "name": "ipython",
    "version": 3
   },
   "file_extension": ".py",
   "mimetype": "text/x-python",
   "name": "python",
   "nbconvert_exporter": "python",
   "pygments_lexer": "ipython3",
   "version": "3.7.0"
  }
 },
 "nbformat": 4,
 "nbformat_minor": 2
}
