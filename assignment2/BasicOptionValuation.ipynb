{
 "cells": [
  {
   "cell_type": "markdown",
   "metadata": {},
   "source": [
    "# Part 1: Basic Option Valuation"
   ]
  },
  {
   "cell_type": "code",
   "execution_count": 20,
   "metadata": {},
   "outputs": [],
   "source": [
    "class Properties():\n",
    "    \n",
    "    def __init__(self):\n",
    "        \n",
    "        self.T = 1\n",
    "        self.sigma = 0.2\n",
    "        self.r = 0.06\n",
    "        self.s0 = 100\n",
    "        self.K = 99\n",
    "        self.N = 365\n",
    "        self.dt = self.T/self.N\n",
    "        self.M = 10000\n",
    "        "
   ]
  },
  {
   "cell_type": "code",
   "execution_count": 21,
   "metadata": {},
   "outputs": [
    {
     "name": "stdout",
     "output_type": "stream",
     "text": [
      "11.823359173024649\n",
      "11.41406023818733\n",
      "11.514412736973592\n",
      "11.45804988985444\n",
      "11.844761236128694\n",
      "11.879481667511477\n",
      "11.545349354835901\n",
      "11.442240888654892\n",
      "11.538254223440424\n",
      "11.46163056284862\n",
      "11.57681119432404\n",
      "11.537782203893245\n",
      "11.553096564235776\n",
      "11.390163830743447\n",
      "11.602688687144907\n",
      "11.70011599596742\n",
      "11.38249917341412\n",
      "11.365485135185349\n",
      "11.525565968392899\n",
      "11.70287475386543\n",
      "11.695113145417126\n",
      "11.317303572020819\n",
      "11.676135031176498\n",
      "11.574893302960554\n",
      "11.586885965246546\n",
      "11.47328019243325\n",
      "11.813002769675634\n",
      "11.489125226715865\n",
      "11.589773855611313\n",
      "11.395828239979467\n",
      "11.367125275780658\n",
      "11.416415857963518\n",
      "11.60213252126627\n",
      "11.459318288701425\n",
      "11.47830194017538\n",
      "11.498210645370387\n",
      "11.488055588729008\n",
      "11.58650889858283\n",
      "11.51070757490802\n",
      "11.593104573531587\n",
      "11.67828374016985\n",
      "11.843820955470347\n",
      "11.507213819201258\n",
      "11.190762743889882\n",
      "11.566144189260214\n",
      "11.205438940273863\n",
      "11.44593162313979\n",
      "11.598657771098546\n",
      "11.443602540913373\n",
      "11.483309093821108\n"
     ]
    }
   ],
   "source": [
    "import math\n",
    "import numpy as np\n",
    "\n",
    "def ST(props):\n",
    "    return props.s0 * math.exp((props.r-0.5*props.sigma**2)*props.T+props.sigma*props.T**0.5*np.random.normal())\n",
    "\n",
    "def option_price(props):\n",
    "    \n",
    "    thesum = 0\n",
    "    \n",
    "    for i in range(props.M):\n",
    "        thesum += max(ST(props)-props.K,0)\n",
    "        \n",
    "    average = thesum / props.M\n",
    "    price = math.exp(-props.r*props.T) * average\n",
    "    return(price)\n",
    "\n",
    "proper = Properties()\n",
    "for i in range(50):\n",
    "    print(option_price(proper))"
   ]
  }
 ],
 "metadata": {
  "kernelspec": {
   "display_name": "Python 3",
   "language": "python",
   "name": "python3"
  },
  "language_info": {
   "codemirror_mode": {
    "name": "ipython",
    "version": 3
   },
   "file_extension": ".py",
   "mimetype": "text/x-python",
   "name": "python",
   "nbconvert_exporter": "python",
   "pygments_lexer": "ipython3",
   "version": "3.7.0"
  }
 },
 "nbformat": 4,
 "nbformat_minor": 2
}
