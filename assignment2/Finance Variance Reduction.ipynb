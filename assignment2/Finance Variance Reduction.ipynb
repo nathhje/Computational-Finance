{
 "cells": [
  {
   "cell_type": "code",
   "execution_count": 24,
   "metadata": {},
   "outputs": [],
   "source": [
    "class Properties():\n",
    "    \n",
    "    def __init__(self):\n",
    "        \n",
    "        self.T = 1\n",
    "        self.sigma = 0.2\n",
    "        self.r = 0.06\n",
    "        self.s0 = 100\n",
    "        self.K = 99\n",
    "        self.N = 365\n",
    "        self.dt = self.T/self.N\n",
    "        self.M = 1000\n",
    "        "
   ]
  },
  {
   "cell_type": "code",
   "execution_count": 60,
   "metadata": {},
   "outputs": [
    {
     "data": {
      "text/plain": [
       "(3.897210426818194, 39.81410066714108)"
      ]
     },
     "execution_count": 60,
     "metadata": {},
     "output_type": "execute_result"
    }
   ],
   "source": [
    "import math\n",
    "import numpy as np\n",
    "\n",
    "\n",
    "\n",
    "def Arithmetic_run(rand_vec, r, vol, K, s_0, T, steps):\n",
    "    dt = T/steps\n",
    "    p_list = [s_0]\n",
    "    for i in range(steps):\n",
    "        new_p = p_list[i] + p_list[i]*(r*dt + vol*np.sqrt(dt)*rand_vec[i])\n",
    "        p_list.append(new_p)\n",
    "    return np.sum(p_list[int(steps/2):])/len(p_list[int(steps/2):])   \n",
    "    \n",
    "\n",
    "def Arithmetic_MC(iterations, r, vol, K, s_0, T, steps):\n",
    "    \n",
    "    \n",
    "    arithmetic_list = []\n",
    "    for i in range(iterations):\n",
    "        rand_vec = np.random.normal(0, 1, steps)\n",
    "        arithmetic_list.append(Arithmetic_run(rand_vec, r, vol, K, s_0, T, steps))\n",
    "        \n",
    "    option_prices = []\n",
    "    for j in range(len(arithmetic_list)):\n",
    "        option_prices.append(max(0, K - arithmetic_list[j]))\n",
    "        \n",
    "    dis_array = np.array(option_prices)\n",
    "        \n",
    "    discounted_value = np.exp(-r*T)*dis_array\n",
    "    \n",
    "    return np.mean(discounted_value), np.var(discounted_value)\n",
    "\n",
    "    \n",
    "def Analytical_G(r, vol, K, s_0, T, steps):\n",
    "    return (r-0.5*(vol**2))*(steps+1)*T/(2*steps)\n",
    "                                                \n",
    "                                                \n",
    "\n",
    "Arithmetic_MC(1000, 0.06, 0.20, 99, 100, 1, 10000)\n",
    "        \n",
    "    \n"
   ]
  },
  {
   "cell_type": "code",
   "execution_count": 64,
   "metadata": {},
   "outputs": [
    {
     "ename": "NameError",
     "evalue": "name 'rand_vec' is not defined",
     "output_type": "error",
     "traceback": [
      "\u001b[1;31m---------------------------------------------------------------------------\u001b[0m",
      "\u001b[1;31mNameError\u001b[0m                                 Traceback (most recent call last)",
      "\u001b[1;32m<ipython-input-64-0c76d36b3c88>\u001b[0m in \u001b[0;36m<module>\u001b[1;34m()\u001b[0m\n\u001b[0;32m      8\u001b[0m     \u001b[1;32mreturn\u001b[0m \u001b[0mx\u001b[0m\u001b[1;33m\u001b[0m\u001b[1;33m\u001b[0m\u001b[0m\n\u001b[0;32m      9\u001b[0m \u001b[1;33m\u001b[0m\u001b[0m\n\u001b[1;32m---> 10\u001b[1;33m \u001b[0mGeometric_run\u001b[0m\u001b[1;33m(\u001b[0m\u001b[1;36m0.06\u001b[0m\u001b[1;33m,\u001b[0m \u001b[1;36m0.20\u001b[0m\u001b[1;33m,\u001b[0m \u001b[1;36m99\u001b[0m\u001b[1;33m,\u001b[0m \u001b[1;36m100\u001b[0m\u001b[1;33m,\u001b[0m \u001b[1;36m1\u001b[0m\u001b[1;33m,\u001b[0m \u001b[1;36m200\u001b[0m\u001b[1;33m)\u001b[0m\u001b[1;33m\u001b[0m\u001b[1;33m\u001b[0m\u001b[0m\n\u001b[0m",
      "\u001b[1;32m<ipython-input-64-0c76d36b3c88>\u001b[0m in \u001b[0;36mGeometric_run\u001b[1;34m(r, vol, K, s_0, T, steps)\u001b[0m\n\u001b[0;32m      3\u001b[0m     \u001b[0mp_list\u001b[0m \u001b[1;33m=\u001b[0m \u001b[1;33m[\u001b[0m\u001b[0ms_0\u001b[0m\u001b[1;33m]\u001b[0m\u001b[1;33m\u001b[0m\u001b[1;33m\u001b[0m\u001b[0m\n\u001b[0;32m      4\u001b[0m     \u001b[1;32mfor\u001b[0m \u001b[0mi\u001b[0m \u001b[1;32min\u001b[0m \u001b[0mrange\u001b[0m\u001b[1;33m(\u001b[0m\u001b[0msteps\u001b[0m\u001b[1;33m)\u001b[0m\u001b[1;33m:\u001b[0m\u001b[1;33m\u001b[0m\u001b[1;33m\u001b[0m\u001b[0m\n\u001b[1;32m----> 5\u001b[1;33m         \u001b[0mnew_p\u001b[0m \u001b[1;33m=\u001b[0m \u001b[0mp_list\u001b[0m\u001b[1;33m[\u001b[0m\u001b[0mi\u001b[0m\u001b[1;33m]\u001b[0m \u001b[1;33m+\u001b[0m \u001b[0mp_list\u001b[0m\u001b[1;33m[\u001b[0m\u001b[0mi\u001b[0m\u001b[1;33m]\u001b[0m\u001b[1;33m*\u001b[0m\u001b[1;33m(\u001b[0m\u001b[0mr\u001b[0m\u001b[1;33m*\u001b[0m\u001b[0mdt\u001b[0m \u001b[1;33m+\u001b[0m \u001b[0mvol\u001b[0m\u001b[1;33m*\u001b[0m\u001b[0mnp\u001b[0m\u001b[1;33m.\u001b[0m\u001b[0msqrt\u001b[0m\u001b[1;33m(\u001b[0m\u001b[0mdt\u001b[0m\u001b[1;33m)\u001b[0m\u001b[1;33m*\u001b[0m\u001b[0mrand_vec\u001b[0m\u001b[1;33m[\u001b[0m\u001b[0mi\u001b[0m\u001b[1;33m]\u001b[0m\u001b[1;33m)\u001b[0m\u001b[1;33m\u001b[0m\u001b[1;33m\u001b[0m\u001b[0m\n\u001b[0m\u001b[0;32m      6\u001b[0m         \u001b[0mp_list\u001b[0m\u001b[1;33m.\u001b[0m\u001b[0mappend\u001b[0m\u001b[1;33m(\u001b[0m\u001b[0mnew_p\u001b[0m\u001b[1;33m)\u001b[0m\u001b[1;33m\u001b[0m\u001b[1;33m\u001b[0m\u001b[0m\n\u001b[0;32m      7\u001b[0m     \u001b[0mx\u001b[0m \u001b[1;33m=\u001b[0m \u001b[0mnp\u001b[0m\u001b[1;33m.\u001b[0m\u001b[0mprod\u001b[0m\u001b[1;33m(\u001b[0m\u001b[0mp_list\u001b[0m\u001b[1;33m[\u001b[0m\u001b[0mint\u001b[0m\u001b[1;33m(\u001b[0m\u001b[0msteps\u001b[0m\u001b[1;33m/\u001b[0m\u001b[1;36m2\u001b[0m\u001b[1;33m)\u001b[0m\u001b[1;33m:\u001b[0m\u001b[1;33m]\u001b[0m\u001b[1;33m)\u001b[0m\u001b[1;33m**\u001b[0m\u001b[1;33m(\u001b[0m\u001b[1;36m1\u001b[0m\u001b[1;33m/\u001b[0m\u001b[0mlen\u001b[0m\u001b[1;33m(\u001b[0m\u001b[0mp_list\u001b[0m\u001b[1;33m[\u001b[0m\u001b[0mint\u001b[0m\u001b[1;33m(\u001b[0m\u001b[0msteps\u001b[0m\u001b[1;33m/\u001b[0m\u001b[1;36m2\u001b[0m\u001b[1;33m)\u001b[0m\u001b[1;33m:\u001b[0m\u001b[1;33m]\u001b[0m\u001b[1;33m)\u001b[0m\u001b[1;33m)\u001b[0m\u001b[1;33m\u001b[0m\u001b[1;33m\u001b[0m\u001b[0m\n",
      "\u001b[1;31mNameError\u001b[0m: name 'rand_vec' is not defined"
     ]
    }
   ],
   "source": [
    "def Geometric_run(iterations, rand_vec, r, vol, K, s_0, T, steps):\n",
    "    dt = T/steps\n",
    "    p_list = [s_0]\n",
    "    for i in range(steps):\n",
    "        new_p = p_list[i] + p_list[i]*(r*dt + vol*np.sqrt(dt)*rand_vec[i])\n",
    "        p_list.append(new_p)\n",
    "    return np.prod(p_list[int(steps/2):])**(1/len(p_list[int(steps/2):]))\n",
    "\n",
    "\n"
   ]
  },
  {
   "cell_type": "code",
   "execution_count": 62,
   "metadata": {},
   "outputs": [
    {
     "name": "stdout",
     "output_type": "stream",
     "text": [
      "[0.]\n"
     ]
    },
    {
     "name": "stderr",
     "output_type": "stream",
     "text": [
      "C:\\Users\\corma\\Anaconda3\\lib\\site-packages\\ipykernel_launcher.py:24: RuntimeWarning: Degrees of freedom <= 0 for slice\n",
      "C:\\Users\\corma\\Anaconda3\\lib\\site-packages\\numpy\\lib\\function_base.py:2326: RuntimeWarning: divide by zero encountered in true_divide\n",
      "  c *= np.true_divide(1, fact)\n",
      "C:\\Users\\corma\\Anaconda3\\lib\\site-packages\\numpy\\lib\\function_base.py:2326: RuntimeWarning: invalid value encountered in multiply\n",
      "  c *= np.true_divide(1, fact)\n"
     ]
    },
    {
     "data": {
      "text/plain": [
       "(nan, nan)"
      ]
     },
     "execution_count": 62,
     "metadata": {},
     "output_type": "execute_result"
    }
   ],
   "source": [
    "def control_variate_MC(iterations, r, vol, K, s_0, T, steps):\n",
    "                                                \n",
    "    arithmetic_list = []\n",
    "    geometric_list = []                                 \n",
    "    for i in range(iterations):\n",
    "        rand_vec = np.random.normal(0, 1, steps)\n",
    "        arithmetic_list.append(Arithmetic_run(rand_vec, r, vol, K, s_0, T, steps))\n",
    "        geometric_list.append(Geometric_run(iterations, rand_vec, r, vol, K, s_0, T, steps))\n",
    "        \n",
    "    a_prices = []\n",
    "    g_prices = []\n",
    "    for j in range(len(arithmetic_list)):\n",
    "        a_prices.append(max(0, K - arithmetic_list[j]))\n",
    "        g_prices.append(max(0, K - geometric_list[j]))\n",
    "    a_array = np.array(a_prices)\n",
    "    g_array = np.array(g_prices)\n",
    "                                                \n",
    "    a_discounted_value = np.exp(-r*T)*a_array\n",
    "    print(a_discounted_value)\n",
    "    g_discounted_value = np.exp(-r*T)*g_array\n",
    "                                    \n",
    "    analytical_value = Analytical_G(r, vol, K, s_0, T, steps)\n",
    "    \n",
    "    c = - np.cov(a_discounted_value, g_discounted_value)/np.var(g_discounted_value)\n",
    "    \n",
    "    estimate_list = np.mean(a_discounted_value) + c*(np.mean(g_discounted_value) - analytical_value)\n",
    "                                                \n",
    "    return np.mean(estimate_list), np.var(estimate_list)\n",
    "\n",
    "control_variate_MC(1, 0.06, 0.20, 99, 100, 1, 200)"
   ]
  },
  {
   "cell_type": "code",
   "execution_count": null,
   "metadata": {},
   "outputs": [],
   "source": []
  }
 ],
 "metadata": {
  "kernelspec": {
   "display_name": "Python 3",
   "language": "python",
   "name": "python3"
  },
  "language_info": {
   "codemirror_mode": {
    "name": "ipython",
    "version": 3
   },
   "file_extension": ".py",
   "mimetype": "text/x-python",
   "name": "python",
   "nbconvert_exporter": "python",
   "pygments_lexer": "ipython3",
   "version": "3.7.1"
  }
 },
 "nbformat": 4,
 "nbformat_minor": 2
}
