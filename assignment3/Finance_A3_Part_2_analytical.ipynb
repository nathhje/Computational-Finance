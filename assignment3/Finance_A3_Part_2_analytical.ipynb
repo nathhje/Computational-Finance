{
 "cells": [
  {
   "cell_type": "markdown",
   "metadata": {},
   "source": [
    "# Determining bounds [-M1, M2]"
   ]
  },
  {
   "cell_type": "code",
   "execution_count": 5,
   "metadata": {},
   "outputs": [
    {
     "data": {
      "text/plain": [
       "[<matplotlib.lines.Line2D at 0x7feb87f43668>]"
      ]
     },
     "execution_count": 5,
     "metadata": {},
     "output_type": "execute_result"
    },
    {
     "data": {
      "image/png": "[encoded data removed]",
      "text/plain": [
       "<Figure size 432x288 with 1 Axes>"
      ]
     },
     "metadata": {
      "needs_background": "light"
     },
     "output_type": "display_data"
    }
   ],
   "source": [
    "import numpy as np\n",
    "import matplotlib.pyplot as plt\n",
    "import scipy.sparse as sp\n",
    "\n",
    "\n",
    "x = np.linspace(0.1, 2000, 100)\n",
    "y = np.log(x)\n",
    "\n",
    "plt.plot(x, y)"
   ]
  },
  {
   "cell_type": "markdown",
   "metadata": {},
   "source": [
    "# Variables"
   ]
  },
  {
   "cell_type": "code",
   "execution_count": 6,
   "metadata": {},
   "outputs": [],
   "source": [
    "Nx = 100\n",
    "Nt = 100\n",
    "\n",
    "r = 0.04\n",
    "sigma = 0.30\n",
    "T = 1\n",
    "K = 99\n",
    "s_0 = 100\n",
    "\n",
    "x = np.linspace(0, 6, Nx)\n",
    "upper_bound = np.exp(max(x))\n",
    "\n",
    "dt = T/Nt\n",
    "dx = upper_bound/Nx"
   ]
  },
  {
   "cell_type": "markdown",
   "metadata": {},
   "source": [
    "# Initializing first row of grid points and boundary conditions"
   ]
  },
  {
   "cell_type": "code",
   "execution_count": 7,
   "metadata": {},
   "outputs": [
    {
     "data": {
      "text/plain": [
       "array([  0.        ,   0.        ,   0.        ,   0.        ,\n",
       "         0.        ,   0.        ,   0.        ,   0.        ,\n",
       "         0.        ,   0.        ,   0.        ,   0.        ,\n",
       "         0.        ,   0.        ,   0.        ,   0.        ,\n",
       "         0.        ,   0.        ,   0.        ,   0.        ,\n",
       "         0.        ,   0.        ,   0.        ,   0.        ,\n",
       "         0.        ,   0.        ,   0.        ,   0.        ,\n",
       "         0.        ,   0.        ,   0.        ,   0.        ,\n",
       "         0.        ,   0.        ,   0.        ,   0.        ,\n",
       "         0.        ,   0.        ,   0.        ,   0.        ,\n",
       "         0.        ,   0.        ,   0.        ,   0.        ,\n",
       "         0.        ,   0.        ,   0.        ,   0.        ,\n",
       "         0.        ,   0.        ,   0.        ,   0.        ,\n",
       "         0.        ,   0.        ,   0.        ,   0.        ,\n",
       "         0.        ,   0.        ,   0.        ,   0.        ,\n",
       "         0.        ,   0.        ,   0.        ,   0.        ,\n",
       "         0.        ,   0.        ,   0.        ,   0.        ,\n",
       "         0.        ,   0.        ,   0.        ,   0.        ,\n",
       "         0.        ,   0.        ,   0.        ,   0.        ,\n",
       "         1.08908166,   7.3426754 ,  13.98699542,  21.0464544 ,\n",
       "        28.54699035,  36.51616188,  44.98324947,  53.97936306,\n",
       "        63.53755632,  73.69294817,  84.48285174,  95.94691149,\n",
       "       108.12724889, 121.06861717, 134.81856574, 149.42761494,\n",
       "       164.94944161, 181.44107634, 198.963113  , 217.5799314 ,\n",
       "       237.35993381, 258.37579628, 280.70473571, 403.42879349])"
      ]
     },
     "execution_count": 7,
     "metadata": {},
     "output_type": "execute_result"
    }
   ],
   "source": [
    "#Vector of grid points\n",
    "def initialize_grid(K, Nx, upper_bound, boundary):\n",
    "    grid_vec = [max(0, np.exp(i) - K) for i in np.linspace(0, 6, Nx)]\n",
    "    \n",
    "    #Dirichlet Boundary conditions\n",
    "    if boundary == 'dirichlet':\n",
    "        grid_vec[0] = 0\n",
    "        grid_vec[-1] = upper_bound\n",
    "    \n",
    "    return(np.array(grid_vec))\n",
    "\n",
    "initialize_grid(K, Nx, upper_bound, 'dirichlet')"
   ]
  },
  {
   "cell_type": "markdown",
   "metadata": {},
   "source": [
    "# FTCS - Compute Diagonals\n"
   ]
  },
  {
   "cell_type": "code",
   "execution_count": 8,
   "metadata": {},
   "outputs": [
    {
     "data": {
      "text/plain": [
       "matrix([[0.00000000e+00, 0.00000000e+00, 0.00000000e+00, 0.00000000e+00,\n",
       "         0.00000000e+00, 0.00000000e+00, 0.00000000e+00, 0.00000000e+00,\n",
       "         0.00000000e+00, 0.00000000e+00],\n",
       "        [2.45768494e-06, 9.95994470e-01, 3.07210618e-06, 0.00000000e+00,\n",
       "         0.00000000e+00, 0.00000000e+00, 0.00000000e+00, 0.00000000e+00,\n",
       "         0.00000000e+00, 0.00000000e+00],\n",
       "        [0.00000000e+00, 2.45768494e-06, 9.95994470e-01, 3.07210618e-06,\n",
       "         0.00000000e+00, 0.00000000e+00, 0.00000000e+00, 0.00000000e+00,\n",
       "         0.00000000e+00, 0.00000000e+00],\n",
       "        [0.00000000e+00, 0.00000000e+00, 2.45768494e-06, 9.95994470e-01,\n",
       "         3.07210618e-06, 0.00000000e+00, 0.00000000e+00, 0.00000000e+00,\n",
       "         0.00000000e+00, 0.00000000e+00],\n",
       "        [0.00000000e+00, 0.00000000e+00, 0.00000000e+00, 2.45768494e-06,\n",
       "         9.95994470e-01, 3.07210618e-06, 0.00000000e+00, 0.00000000e+00,\n",
       "         0.00000000e+00, 0.00000000e+00],\n",
       "        [0.00000000e+00, 0.00000000e+00, 0.00000000e+00, 0.00000000e+00,\n",
       "         2.45768494e-06, 9.95994470e-01, 3.07210618e-06, 0.00000000e+00,\n",
       "         0.00000000e+00, 0.00000000e+00],\n",
       "        [0.00000000e+00, 0.00000000e+00, 0.00000000e+00, 0.00000000e+00,\n",
       "         0.00000000e+00, 2.45768494e-06, 9.95994470e-01, 3.07210618e-06,\n",
       "         0.00000000e+00, 0.00000000e+00],\n",
       "        [0.00000000e+00, 0.00000000e+00, 0.00000000e+00, 0.00000000e+00,\n",
       "         0.00000000e+00, 0.00000000e+00, 2.45768494e-06, 9.95994470e-01,\n",
       "         3.07210618e-06, 0.00000000e+00],\n",
       "        [0.00000000e+00, 0.00000000e+00, 0.00000000e+00, 0.00000000e+00,\n",
       "         0.00000000e+00, 0.00000000e+00, 0.00000000e+00, 2.45768494e-06,\n",
       "         9.95994470e-01, 3.07210618e-06],\n",
       "        [0.00000000e+00, 0.00000000e+00, 0.00000000e+00, 0.00000000e+00,\n",
       "         0.00000000e+00, 0.00000000e+00, 0.00000000e+00, 0.00000000e+00,\n",
       "         0.00000000e+00, 0.00000000e+00]])"
      ]
     },
     "execution_count": 8,
     "metadata": {},
     "output_type": "execute_result"
    }
   ],
   "source": [
    "#For FTCS the scheme can be simplified to two tridiagonal matrix multiplications\n",
    "#In this case B is the identity matrix, so only the diagonals of A will be computed here\n",
    "\n",
    "Nx = 10\n",
    "Nt = 10\n",
    "\n",
    "grid_vec = initialize_grid(K, Nx, upper_bound, 'dirichlet')\n",
    "\n",
    "def compute_matrix_FTCS(grid_vec, r, sigma, Nx, Nt, upper_bound, T):\n",
    "    \n",
    "    dx = upper_bound/Nx\n",
    "    dt = T/Nt\n",
    "    \n",
    "    c1 = (r - 0.5*(sigma**2))*(dt/dx**2)\n",
    "    c2 = 0.5*(sigma**2)*(dt/dx**2)\n",
    "\n",
    "    A = sp.diags((1, 0, -1), offsets= (-1, 0, 1), shape=(Nx, Nx))\n",
    "    A = sp.lil_matrix(A)\n",
    "    A[0] = 0\n",
    "    A[-1] = 0\n",
    "    \n",
    "    B = sp.diags((1, -2, 1), offsets=(-1, 0, 1), shape=(Nx, Nx))\n",
    "    B = sp.lil_matrix(B)\n",
    "    B[0] = 0\n",
    "    B[-1] = 0\n",
    "    \n",
    "    C = np.identity(Nx)\n",
    "    C[0] = 0\n",
    "    C[-1] = 0\n",
    "    \n",
    "    matrix = (1-r*dt)*C + c1*A + c2*B\n",
    "    \n",
    "    return matrix\n",
    "\n",
    "compute_matrix_FTCS(grid_vec, r, sigma, Nx, Nt, upper_bound, T)"
   ]
  },
  {
   "cell_type": "markdown",
   "metadata": {},
   "source": [
    "# FTCS Simulation"
   ]
  },
  {
   "cell_type": "code",
   "execution_count": 51,
   "metadata": {},
   "outputs": [
    {
     "data": {
      "text/plain": [
       "array([0.00000000e+000, 0.00000000e+000, 0.00000000e+000, 0.00000000e+000,\n",
       "       0.00000000e+000, 0.00000000e+000, 0.00000000e+000, 0.00000000e+000,\n",
       "       0.00000000e+000, 0.00000000e+000, 0.00000000e+000, 0.00000000e+000,\n",
       "       0.00000000e+000, 0.00000000e+000, 0.00000000e+000, 0.00000000e+000,\n",
       "       0.00000000e+000, 0.00000000e+000, 0.00000000e+000, 0.00000000e+000,\n",
       "       0.00000000e+000, 0.00000000e+000, 0.00000000e+000, 0.00000000e+000,\n",
       "       0.00000000e+000, 0.00000000e+000, 0.00000000e+000, 0.00000000e+000,\n",
       "       0.00000000e+000, 0.00000000e+000, 0.00000000e+000, 0.00000000e+000,\n",
       "       0.00000000e+000, 0.00000000e+000, 0.00000000e+000, 0.00000000e+000,\n",
       "       0.00000000e+000, 0.00000000e+000, 0.00000000e+000, 0.00000000e+000,\n",
       "       0.00000000e+000, 0.00000000e+000, 0.00000000e+000, 0.00000000e+000,\n",
       "       0.00000000e+000, 0.00000000e+000, 0.00000000e+000, 0.00000000e+000,\n",
       "       0.00000000e+000, 0.00000000e+000, 0.00000000e+000, 0.00000000e+000,\n",
       "       0.00000000e+000, 0.00000000e+000, 0.00000000e+000, 0.00000000e+000,\n",
       "       0.00000000e+000, 0.00000000e+000, 0.00000000e+000, 0.00000000e+000,\n",
       "       0.00000000e+000, 0.00000000e+000, 0.00000000e+000, 0.00000000e+000,\n",
       "       0.00000000e+000, 0.00000000e+000, 0.00000000e+000, 0.00000000e+000,\n",
       "       0.00000000e+000, 0.00000000e+000, 0.00000000e+000, 0.00000000e+000,\n",
       "       0.00000000e+000, 0.00000000e+000, 0.00000000e+000, 0.00000000e+000,\n",
       "       0.00000000e+000, 0.00000000e+000, 0.00000000e+000, 0.00000000e+000,\n",
       "       0.00000000e+000, 0.00000000e+000, 0.00000000e+000, 0.00000000e+000,\n",
       "       0.00000000e+000, 0.00000000e+000, 0.00000000e+000, 0.00000000e+000,\n",
       "       0.00000000e+000, 0.00000000e+000, 0.00000000e+000, 0.00000000e+000,\n",
       "       0.00000000e+000, 0.00000000e+000, 0.00000000e+000, 0.00000000e+000,\n",
       "       0.00000000e+000, 0.00000000e+000, 0.00000000e+000, 0.00000000e+000,\n",
       "       0.00000000e+000, 0.00000000e+000, 0.00000000e+000, 0.00000000e+000,\n",
       "       0.00000000e+000, 0.00000000e+000, 0.00000000e+000, 0.00000000e+000,\n",
       "       0.00000000e+000, 0.00000000e+000, 0.00000000e+000, 0.00000000e+000,\n",
       "       0.00000000e+000, 0.00000000e+000, 0.00000000e+000, 0.00000000e+000,\n",
       "       0.00000000e+000, 0.00000000e+000, 0.00000000e+000, 0.00000000e+000,\n",
       "       0.00000000e+000, 0.00000000e+000, 0.00000000e+000, 0.00000000e+000,\n",
       "       0.00000000e+000, 0.00000000e+000, 0.00000000e+000, 0.00000000e+000,\n",
       "       0.00000000e+000, 0.00000000e+000, 0.00000000e+000, 0.00000000e+000,\n",
       "       0.00000000e+000, 0.00000000e+000, 0.00000000e+000, 0.00000000e+000,\n",
       "       0.00000000e+000, 0.00000000e+000, 0.00000000e+000, 0.00000000e+000,\n",
       "       0.00000000e+000, 0.00000000e+000, 0.00000000e+000, 0.00000000e+000,\n",
       "       0.00000000e+000, 0.00000000e+000, 0.00000000e+000, 0.00000000e+000,\n",
       "       0.00000000e+000, 0.00000000e+000, 0.00000000e+000, 0.00000000e+000,\n",
       "       0.00000000e+000, 0.00000000e+000, 0.00000000e+000, 0.00000000e+000,\n",
       "       0.00000000e+000, 0.00000000e+000, 0.00000000e+000, 0.00000000e+000,\n",
       "       0.00000000e+000, 0.00000000e+000, 0.00000000e+000, 0.00000000e+000,\n",
       "       0.00000000e+000, 0.00000000e+000, 0.00000000e+000, 0.00000000e+000,\n",
       "       0.00000000e+000, 0.00000000e+000, 0.00000000e+000, 0.00000000e+000,\n",
       "       0.00000000e+000, 0.00000000e+000, 0.00000000e+000, 0.00000000e+000,\n",
       "       0.00000000e+000, 0.00000000e+000, 0.00000000e+000, 0.00000000e+000,\n",
       "       0.00000000e+000, 0.00000000e+000, 0.00000000e+000, 0.00000000e+000,\n",
       "       0.00000000e+000, 0.00000000e+000, 0.00000000e+000, 0.00000000e+000,\n",
       "       0.00000000e+000, 0.00000000e+000, 0.00000000e+000, 0.00000000e+000,\n",
       "       0.00000000e+000, 0.00000000e+000, 0.00000000e+000, 0.00000000e+000,\n",
       "       0.00000000e+000, 0.00000000e+000, 0.00000000e+000, 0.00000000e+000,\n",
       "       0.00000000e+000, 0.00000000e+000, 0.00000000e+000, 0.00000000e+000,\n",
       "       0.00000000e+000, 0.00000000e+000, 0.00000000e+000, 0.00000000e+000,\n",
       "       0.00000000e+000, 0.00000000e+000, 0.00000000e+000, 0.00000000e+000,\n",
       "       0.00000000e+000, 0.00000000e+000, 0.00000000e+000, 0.00000000e+000,\n",
       "       0.00000000e+000, 0.00000000e+000, 0.00000000e+000, 0.00000000e+000,\n",
       "       0.00000000e+000, 0.00000000e+000, 0.00000000e+000, 0.00000000e+000,\n",
       "       0.00000000e+000, 0.00000000e+000, 0.00000000e+000, 0.00000000e+000,\n",
       "       0.00000000e+000, 0.00000000e+000, 0.00000000e+000, 0.00000000e+000,\n",
       "       0.00000000e+000, 0.00000000e+000, 0.00000000e+000, 0.00000000e+000,\n",
       "       0.00000000e+000, 0.00000000e+000, 0.00000000e+000, 0.00000000e+000,\n",
       "       0.00000000e+000, 0.00000000e+000, 0.00000000e+000, 0.00000000e+000,\n",
       "       0.00000000e+000, 0.00000000e+000, 0.00000000e+000, 0.00000000e+000,\n",
       "       0.00000000e+000, 0.00000000e+000, 0.00000000e+000, 0.00000000e+000,\n",
       "       0.00000000e+000, 0.00000000e+000, 0.00000000e+000, 0.00000000e+000,\n",
       "       0.00000000e+000, 0.00000000e+000, 0.00000000e+000, 0.00000000e+000,\n",
       "       0.00000000e+000, 0.00000000e+000, 0.00000000e+000, 0.00000000e+000,\n",
       "       0.00000000e+000, 0.00000000e+000, 0.00000000e+000, 0.00000000e+000,\n",
       "       0.00000000e+000, 0.00000000e+000, 0.00000000e+000, 0.00000000e+000,\n",
       "       0.00000000e+000, 0.00000000e+000, 0.00000000e+000, 0.00000000e+000,\n",
       "       0.00000000e+000, 0.00000000e+000, 0.00000000e+000, 0.00000000e+000,\n",
       "       0.00000000e+000, 0.00000000e+000, 0.00000000e+000, 0.00000000e+000,\n",
       "       0.00000000e+000, 0.00000000e+000, 0.00000000e+000, 0.00000000e+000,\n",
       "       0.00000000e+000, 0.00000000e+000, 0.00000000e+000, 0.00000000e+000,\n",
       "       0.00000000e+000, 0.00000000e+000, 0.00000000e+000, 0.00000000e+000,\n",
       "       0.00000000e+000, 0.00000000e+000, 0.00000000e+000, 0.00000000e+000,\n",
       "       0.00000000e+000, 0.00000000e+000, 0.00000000e+000, 0.00000000e+000,\n",
       "       0.00000000e+000, 0.00000000e+000, 0.00000000e+000, 0.00000000e+000,\n",
       "       0.00000000e+000, 0.00000000e+000, 0.00000000e+000, 0.00000000e+000,\n",
       "       0.00000000e+000, 0.00000000e+000, 0.00000000e+000, 0.00000000e+000,\n",
       "       0.00000000e+000, 0.00000000e+000, 0.00000000e+000, 0.00000000e+000,\n",
       "       0.00000000e+000, 0.00000000e+000, 0.00000000e+000, 0.00000000e+000,\n",
       "       0.00000000e+000, 0.00000000e+000, 0.00000000e+000, 0.00000000e+000,\n",
       "       0.00000000e+000, 0.00000000e+000, 0.00000000e+000, 0.00000000e+000,\n",
       "       0.00000000e+000, 0.00000000e+000, 0.00000000e+000, 0.00000000e+000,\n",
       "       0.00000000e+000, 0.00000000e+000, 0.00000000e+000, 0.00000000e+000,\n",
       "       0.00000000e+000, 0.00000000e+000, 0.00000000e+000, 0.00000000e+000,\n",
       "       0.00000000e+000, 0.00000000e+000, 0.00000000e+000, 0.00000000e+000,\n",
       "       0.00000000e+000, 0.00000000e+000, 0.00000000e+000, 0.00000000e+000,\n",
       "       0.00000000e+000, 0.00000000e+000, 0.00000000e+000, 0.00000000e+000,\n",
       "       0.00000000e+000, 0.00000000e+000, 0.00000000e+000, 0.00000000e+000,\n",
       "       0.00000000e+000, 0.00000000e+000, 0.00000000e+000, 0.00000000e+000,\n",
       "       0.00000000e+000, 0.00000000e+000, 0.00000000e+000, 0.00000000e+000,\n",
       "       0.00000000e+000, 0.00000000e+000, 0.00000000e+000, 0.00000000e+000,\n",
       "       0.00000000e+000, 0.00000000e+000, 0.00000000e+000, 0.00000000e+000,\n",
       "       0.00000000e+000, 0.00000000e+000, 0.00000000e+000, 0.00000000e+000,\n",
       "       0.00000000e+000, 0.00000000e+000, 0.00000000e+000, 0.00000000e+000,\n",
       "       0.00000000e+000, 0.00000000e+000, 0.00000000e+000, 0.00000000e+000,\n",
       "       0.00000000e+000, 0.00000000e+000, 0.00000000e+000, 0.00000000e+000,\n",
       "       0.00000000e+000, 0.00000000e+000, 0.00000000e+000, 0.00000000e+000,\n",
       "       0.00000000e+000, 0.00000000e+000, 0.00000000e+000, 0.00000000e+000,\n",
       "       0.00000000e+000, 0.00000000e+000, 0.00000000e+000, 0.00000000e+000,\n",
       "       0.00000000e+000, 0.00000000e+000, 0.00000000e+000, 0.00000000e+000,\n",
       "       0.00000000e+000, 0.00000000e+000, 0.00000000e+000, 0.00000000e+000,\n",
       "       0.00000000e+000, 0.00000000e+000, 0.00000000e+000, 0.00000000e+000,\n",
       "       0.00000000e+000, 0.00000000e+000, 0.00000000e+000, 0.00000000e+000,\n",
       "       0.00000000e+000, 0.00000000e+000, 0.00000000e+000, 0.00000000e+000,\n",
       "       0.00000000e+000, 0.00000000e+000, 0.00000000e+000, 0.00000000e+000,\n",
       "       0.00000000e+000, 0.00000000e+000, 0.00000000e+000, 0.00000000e+000,\n",
       "       0.00000000e+000, 0.00000000e+000, 0.00000000e+000, 0.00000000e+000,\n",
       "       0.00000000e+000, 0.00000000e+000, 0.00000000e+000, 0.00000000e+000,\n",
       "       0.00000000e+000, 0.00000000e+000, 0.00000000e+000, 0.00000000e+000,\n",
       "       0.00000000e+000, 0.00000000e+000, 0.00000000e+000, 0.00000000e+000,\n",
       "       0.00000000e+000, 0.00000000e+000, 0.00000000e+000, 0.00000000e+000,\n",
       "       0.00000000e+000, 0.00000000e+000, 0.00000000e+000, 0.00000000e+000,\n",
       "       0.00000000e+000, 0.00000000e+000, 0.00000000e+000, 0.00000000e+000,\n",
       "       0.00000000e+000, 0.00000000e+000, 0.00000000e+000, 0.00000000e+000,\n",
       "       0.00000000e+000, 0.00000000e+000, 0.00000000e+000, 0.00000000e+000,\n",
       "       0.00000000e+000, 0.00000000e+000, 0.00000000e+000, 0.00000000e+000,\n",
       "       0.00000000e+000, 0.00000000e+000, 0.00000000e+000, 0.00000000e+000,\n",
       "       0.00000000e+000, 0.00000000e+000, 0.00000000e+000, 0.00000000e+000,\n",
       "       0.00000000e+000, 0.00000000e+000, 0.00000000e+000, 0.00000000e+000,\n",
       "       0.00000000e+000, 0.00000000e+000, 0.00000000e+000, 0.00000000e+000,\n",
       "       0.00000000e+000, 0.00000000e+000, 0.00000000e+000, 0.00000000e+000,\n",
       "       0.00000000e+000, 0.00000000e+000, 0.00000000e+000, 0.00000000e+000,\n",
       "       0.00000000e+000, 0.00000000e+000, 0.00000000e+000, 0.00000000e+000,\n",
       "       0.00000000e+000, 0.00000000e+000, 0.00000000e+000, 0.00000000e+000,\n",
       "       0.00000000e+000, 0.00000000e+000, 0.00000000e+000, 0.00000000e+000,\n",
       "       0.00000000e+000, 0.00000000e+000, 0.00000000e+000, 0.00000000e+000,\n",
       "       0.00000000e+000, 0.00000000e+000, 0.00000000e+000, 0.00000000e+000,\n",
       "       0.00000000e+000, 0.00000000e+000, 0.00000000e+000, 0.00000000e+000,\n",
       "       0.00000000e+000, 0.00000000e+000, 0.00000000e+000, 0.00000000e+000,\n",
       "       0.00000000e+000, 0.00000000e+000, 0.00000000e+000, 0.00000000e+000,\n",
       "       0.00000000e+000, 0.00000000e+000, 0.00000000e+000, 0.00000000e+000,\n",
       "       0.00000000e+000, 0.00000000e+000, 0.00000000e+000, 0.00000000e+000,\n",
       "       0.00000000e+000, 0.00000000e+000, 0.00000000e+000, 0.00000000e+000,\n",
       "       0.00000000e+000, 0.00000000e+000, 0.00000000e+000, 0.00000000e+000,\n",
       "       0.00000000e+000, 0.00000000e+000, 0.00000000e+000, 0.00000000e+000,\n",
       "       0.00000000e+000, 0.00000000e+000, 0.00000000e+000, 0.00000000e+000,\n",
       "       0.00000000e+000, 0.00000000e+000, 0.00000000e+000, 0.00000000e+000,\n",
       "       0.00000000e+000, 0.00000000e+000, 0.00000000e+000, 0.00000000e+000,\n",
       "       0.00000000e+000, 0.00000000e+000, 0.00000000e+000, 0.00000000e+000,\n",
       "       0.00000000e+000, 0.00000000e+000, 0.00000000e+000, 0.00000000e+000,\n",
       "       0.00000000e+000, 0.00000000e+000, 0.00000000e+000, 0.00000000e+000,\n",
       "       0.00000000e+000, 0.00000000e+000, 0.00000000e+000, 0.00000000e+000,\n",
       "       0.00000000e+000, 0.00000000e+000, 0.00000000e+000, 0.00000000e+000,\n",
       "       0.00000000e+000, 0.00000000e+000, 0.00000000e+000, 0.00000000e+000,\n",
       "       0.00000000e+000, 0.00000000e+000, 0.00000000e+000, 0.00000000e+000,\n",
       "       0.00000000e+000, 0.00000000e+000, 0.00000000e+000, 0.00000000e+000,\n",
       "       0.00000000e+000, 0.00000000e+000, 0.00000000e+000, 0.00000000e+000,\n",
       "       0.00000000e+000, 0.00000000e+000, 0.00000000e+000, 0.00000000e+000,\n",
       "       0.00000000e+000, 0.00000000e+000, 0.00000000e+000, 0.00000000e+000,\n",
       "       0.00000000e+000, 0.00000000e+000, 0.00000000e+000, 0.00000000e+000,\n",
       "       0.00000000e+000, 0.00000000e+000, 0.00000000e+000, 0.00000000e+000,\n",
       "       0.00000000e+000, 0.00000000e+000, 0.00000000e+000, 0.00000000e+000,\n",
       "       0.00000000e+000, 0.00000000e+000, 0.00000000e+000, 0.00000000e+000,\n",
       "       0.00000000e+000, 0.00000000e+000, 0.00000000e+000, 0.00000000e+000,\n",
       "       0.00000000e+000, 2.91004665e-321, 1.55175644e-318, 8.20859784e-316,\n",
       "       4.30624572e-313, 2.24021460e-310, 1.15563108e-307, 5.91105530e-305,\n",
       "       2.99781038e-302, 1.50734746e-299, 7.51396326e-297, 3.71319080e-294,\n",
       "       1.81896200e-291, 8.83229206e-289, 4.25080841e-286, 2.02764739e-283,\n",
       "       9.58539909e-281, 4.49053903e-278, 2.08463719e-275, 9.58912532e-273,\n",
       "       4.37035123e-270, 1.97339665e-267, 8.82763810e-265, 3.91180907e-262,\n",
       "       1.71705490e-259, 7.46507222e-257, 3.21437486e-254, 1.37069411e-251,\n",
       "       5.78807797e-249, 2.42016918e-246, 1.00194008e-243, 4.10666235e-241,\n",
       "       1.66630079e-238, 6.69268327e-236, 2.66069002e-233, 1.04688609e-230,\n",
       "       4.07642107e-228, 1.57070900e-225, 5.98840846e-223, 2.25884925e-220,\n",
       "       8.42914711e-218, 3.11143109e-215, 1.13599316e-212, 4.10192962e-210,\n",
       "       1.46472053e-207, 5.17168008e-205, 1.80540309e-202, 6.23069870e-200,\n",
       "       2.12555715e-197, 7.16695561e-195, 2.38821783e-192, 7.86395073e-190,\n",
       "       2.55849455e-187, 8.22343338e-185, 2.61092117e-182, 8.18751222e-180,\n",
       "       2.53555041e-177, 7.75350007e-175, 2.34083297e-172, 6.97638728e-170,\n",
       "       2.05218855e-167, 5.95755379e-165, 1.70654867e-162, 4.82284977e-160,\n",
       "       1.34448461e-157, 3.69662967e-155, 1.00226655e-152, 2.67926095e-150,\n",
       "       7.06035676e-148, 1.83375572e-145, 4.69332652e-143, 1.18348724e-140,\n",
       "       2.93972492e-138, 7.19158356e-136, 1.73232362e-133, 4.10799146e-131,\n",
       "       9.58810322e-129, 2.20212702e-126, 4.97575981e-124, 1.10581283e-121,\n",
       "       2.41659334e-119, 5.19178183e-117, 1.09624551e-114, 2.27437276e-112,\n",
       "       4.63508676e-110, 9.27624811e-108, 1.82253820e-105, 3.51429077e-103,\n",
       "       6.64840816e-101, 1.23359806e-098, 2.24417876e-096, 4.00142846e-094,\n",
       "       6.99015167e-092, 1.19593017e-089, 2.00308668e-087, 3.28313122e-085,\n",
       "       5.26360877e-083, 8.25068540e-081, 1.26387205e-078, 1.89107717e-076,\n",
       "       2.76239020e-074, 3.93728171e-072, 5.47265959e-070, 7.41367497e-068,\n",
       "       9.78208584e-066, 1.25634190e-063, 1.56950656e-061, 1.90581802e-059,\n",
       "       2.24765179e-057, 2.57248549e-055, 2.85482244e-053, 3.06909639e-051,\n",
       "       3.19319223e-049, 3.21198091e-047, 3.12013981e-045, 2.92357766e-043,\n",
       "       2.63902650e-041, 2.29175962e-039, 1.91184192e-037, 1.52968521e-035,\n",
       "       1.17184576e-033, 8.57910808e-032, 5.99000012e-030, 3.97967913e-028,\n",
       "       2.50974767e-026, 1.49824174e-024, 8.44069016e-023, 4.47233066e-021,\n",
       "       2.22011993e-019, 1.02802808e-017, 4.41816863e-016, 1.75214379e-014,\n",
       "       6.36855436e-013, 2.10456907e-011, 6.26228404e-010, 1.65804010e-008,\n",
       "       3.84845764e-007, 7.68202411e-006, 1.28539457e-004, 1.73947768e-003,\n",
       "       1.80514456e-002, 1.31804456e-001, 5.79250470e-001, 1.13727103e+000,\n",
       "       1.71534271e+000, 2.29854880e+000, 2.88538716e+000, 3.47576738e+000,\n",
       "       4.06970440e+000, 4.66721937e+000, 5.26833380e+000, 5.87306940e+000,\n",
       "       6.48144798e+000, 7.09349147e+000, 7.70922196e+000, 8.32866167e+000,\n",
       "       8.95183292e+000, 9.57875821e+000, 1.02094601e+001, 1.08439615e+001,\n",
       "       1.14822851e+001, 1.21244540e+001, 1.27704914e+001, 1.34204206e+001,\n",
       "       1.40742650e+001, 1.47320482e+001, 1.53937940e+001, 1.60595261e+001,\n",
       "       1.67292687e+001, 1.74030459e+001, 1.80808820e+001, 1.87628013e+001,\n",
       "       1.94488287e+001, 2.01389887e+001, 2.08333063e+001, 2.15318065e+001,\n",
       "       2.22345145e+001, 2.29414557e+001, 2.36526556e+001, 2.43681398e+001,\n",
       "       2.50879341e+001, 2.58120645e+001, 2.65405572e+001, 2.72734383e+001,\n",
       "       2.80107344e+001, 2.87524720e+001, 2.94986779e+001, 3.02493789e+001,\n",
       "       3.10046023e+001, 3.17643752e+001, 3.25287250e+001, 3.32976794e+001,\n",
       "       3.40712659e+001, 3.48495126e+001, 3.56324476e+001, 3.64200990e+001,\n",
       "       3.72124952e+001, 3.80096650e+001, 3.88116369e+001, 3.96184400e+001,\n",
       "       4.04301033e+001, 4.12466562e+001, 4.20681280e+001, 4.28945484e+001,\n",
       "       4.37259473e+001, 4.45623546e+001, 4.54038004e+001, 4.62503152e+001,\n",
       "       4.71019295e+001, 4.79586739e+001, 4.88205795e+001, 4.96876772e+001,\n",
       "       5.05599984e+001, 5.14375745e+001, 5.23204372e+001, 5.32086184e+001,\n",
       "       5.41021500e+001, 5.50010644e+001, 5.59053938e+001, 5.68151710e+001,\n",
       "       5.77304288e+001, 5.86512002e+001, 5.95775183e+001, 6.05094167e+001,\n",
       "       6.14469289e+001, 6.23900888e+001, 6.33389303e+001, 6.42934877e+001,\n",
       "       6.52537954e+001, 6.62198881e+001, 6.71918007e+001, 6.81695681e+001,\n",
       "       6.91532256e+001, 7.01428088e+001, 7.11383533e+001, 7.21398951e+001,\n",
       "       7.31474702e+001, 7.41611150e+001, 7.51808661e+001, 7.62067603e+001,\n",
       "       7.72388345e+001, 7.82771260e+001, 7.93216723e+001, 8.03725110e+001,\n",
       "       8.14296801e+001, 8.24932176e+001, 8.35631619e+001, 8.46395517e+001,\n",
       "       8.57224257e+001, 8.68118230e+001, 8.79077830e+001, 8.90103451e+001,\n",
       "       9.01195491e+001, 9.12354351e+001, 9.23580432e+001, 9.34874141e+001,\n",
       "       9.46235883e+001, 9.57666069e+001, 9.69165112e+001, 9.80733426e+001,\n",
       "       9.92371428e+001, 1.00407954e+002, 1.01585818e+002, 1.02770778e+002,\n",
       "       1.03962876e+002, 1.05162155e+002, 1.06368659e+002, 1.07582431e+002,\n",
       "       1.08803514e+002, 1.10031954e+002, 1.11267794e+002, 1.12511078e+002,\n",
       "       1.13761853e+002, 1.15020162e+002, 1.16286051e+002, 1.17559566e+002,\n",
       "       1.18840753e+002, 1.20129657e+002, 1.21426327e+002, 1.22730807e+002,\n",
       "       1.24043146e+002, 1.25363390e+002, 1.26691588e+002, 1.28027786e+002,\n",
       "       1.29372035e+002, 1.30724381e+002, 1.32084873e+002, 1.33453562e+002,\n",
       "       1.34830495e+002, 1.36215723e+002, 1.37609296e+002, 1.39011264e+002,\n",
       "       1.40421678e+002, 1.41840587e+002, 1.43268045e+002, 1.44704102e+002,\n",
       "       1.46148809e+002, 1.47602220e+002, 1.49064386e+002, 1.50535360e+002,\n",
       "       1.52015196e+002, 1.53503946e+002, 1.55001664e+002, 1.56508405e+002,\n",
       "       1.58024223e+002, 1.59549172e+002, 1.61083307e+002, 1.62626685e+002,\n",
       "       1.64179359e+002, 1.65741387e+002, 1.67312825e+002, 1.68893729e+002,\n",
       "       1.70484157e+002, 1.72084166e+002, 1.73693813e+002, 1.75313157e+002,\n",
       "       1.76942256e+002, 1.78581168e+002, 1.80229954e+002, 1.81888672e+002,\n",
       "       1.83557383e+002, 1.85236145e+002, 1.86925021e+002, 1.88624071e+002,\n",
       "       1.90333356e+002, 1.92052937e+002, 1.93782878e+002, 1.95523240e+002,\n",
       "       1.97274086e+002, 1.99035479e+002, 2.00807483e+002, 2.02590162e+002,\n",
       "       2.04383580e+002, 2.06187801e+002, 2.08002892e+002, 2.09828916e+002,\n",
       "       2.11665940e+002, 2.13514031e+002, 2.15373255e+002, 2.17243679e+002,\n",
       "       2.19125371e+002, 2.21018398e+002, 2.22922829e+002, 2.24838732e+002,\n",
       "       2.26766177e+002, 2.28705233e+002, 2.30655970e+002, 2.32618459e+002,\n",
       "       2.34592769e+002, 2.36578973e+002, 2.38577142e+002, 2.40587348e+002,\n",
       "       2.42609664e+002, 2.44644162e+002, 2.46690916e+002, 2.48750001e+002,\n",
       "       2.50821489e+002, 2.52905456e+002, 2.55001977e+002, 2.57111127e+002,\n",
       "       2.59232984e+002, 2.61367622e+002, 2.63515120e+002, 2.65675554e+002,\n",
       "       2.67849003e+002, 2.70035546e+002, 2.72235260e+002, 2.74448225e+002,\n",
       "       2.76674524e+002, 2.78914300e+002, 2.81168842e+002, 2.83457900e+002,\n",
       "       2.86036318e+002, 2.91363509e+002, 3.15029653e+002, 4.03428793e+002])"
      ]
     },
     "execution_count": 51,
     "metadata": {},
     "output_type": "execute_result"
    }
   ],
   "source": [
    "\n",
    "\n",
    "Nx = 1000\n",
    "Nt = 1000\n",
    "\n",
    "#Returns options values one year from expiration\n",
    "\n",
    "def FTCS_simulation(K, r, sigma, Nx, Nt, upper_bound, T):\n",
    "    \n",
    "    grid_vec = initialize_grid(K, Nx, upper_bound, 'dirichlet')\n",
    "    \n",
    "    dx = upper_bound/Nx\n",
    "    dt = T/Nt\n",
    "    \n",
    "    c1 = (r - 0.5*(sigma**2))*(dt/dx**2)\n",
    "    c2 = 0.5*(sigma**2)*(dt/dx**2)\n",
    "\n",
    "    A = sp.diags((1, 0, -1), offsets= (-1, 0, 1), shape=(Nx, Nx))\n",
    "    A = sp.lil_matrix(A)\n",
    "    A[0] = 0\n",
    "    A[-1] = 0\n",
    "    \n",
    "    B = sp.diags((1, -2, 1), offsets=(-1, 0, 1), shape=(Nx, Nx))\n",
    "    B = sp.lil_matrix(B)\n",
    "    B[0] = 0\n",
    "    B[-1] = 0\n",
    "    \n",
    "    C = np.identity(Nx)\n",
    "    C[0] = 0\n",
    "    C[-1] = 0\n",
    "    \n",
    "    matrix = ((1-r*dt)*C + c1*A + c2*B)\n",
    "    \n",
    "    value_list = [grid_vec]\n",
    "    \n",
    "    for i in range(Nt):\n",
    "        new_grid_vec = np.array(matrix.dot(value_list[i]))[-1]\n",
    "        new_grid_vec[-1] = upper_bound\n",
    "        value_list.append(new_grid_vec)\n",
    "    \n",
    "    return value_list[-1]\n",
    "\n",
    "FTCS_simulation(K, r, sigma, Nx, Nt, upper_bound, T)"
   ]
  },
  {
   "cell_type": "markdown",
   "metadata": {},
   "source": [
    "# Ensuring this reformulation is consistent with other FTCS ouput"
   ]
  },
  {
   "cell_type": "code",
   "execution_count": null,
   "metadata": {},
   "outputs": [],
   "source": []
  },
  {
   "cell_type": "markdown",
   "metadata": {},
   "source": [
    "# Crank Nicholson - Compute diagonals"
   ]
  },
  {
   "cell_type": "code",
   "execution_count": 11,
   "metadata": {},
   "outputs": [
    {
     "ename": "NameError",
     "evalue": "name 'c1' is not defined",
     "output_type": "error",
     "traceback": [
      "\u001b[0;31m---------------------------------------------------------------------------\u001b[0m",
      "\u001b[0;31mNameError\u001b[0m                                 Traceback (most recent call last)",
      "\u001b[0;32m<ipython-input-11-a271efdecc66>\u001b[0m in \u001b[0;36m<module>\u001b[0;34m()\u001b[0m\n\u001b[1;32m     25\u001b[0m     \u001b[0mprint\u001b[0m\u001b[0;34m(\u001b[0m\u001b[0;34m(\u001b[0m\u001b[0;36m1\u001b[0m\u001b[0;34m-\u001b[0m\u001b[0mr\u001b[0m\u001b[0;34m*\u001b[0m\u001b[0mdt\u001b[0m\u001b[0;34m)\u001b[0m\u001b[0;34m*\u001b[0m\u001b[0mnp\u001b[0m\u001b[0;34m.\u001b[0m\u001b[0midentity\u001b[0m\u001b[0;34m(\u001b[0m\u001b[0mNx\u001b[0m\u001b[0;34m)\u001b[0m \u001b[0;34m+\u001b[0m \u001b[0mc1\u001b[0m\u001b[0;34m*\u001b[0m\u001b[0mA\u001b[0m \u001b[0;34m+\u001b[0m \u001b[0mc2\u001b[0m\u001b[0;34m*\u001b[0m\u001b[0mB\u001b[0m\u001b[0;34m)\u001b[0m\u001b[0;34m\u001b[0m\u001b[0m\n\u001b[1;32m     26\u001b[0m \u001b[0;34m\u001b[0m\u001b[0m\n\u001b[0;32m---> 27\u001b[0;31m \u001b[0mcompute_matrix_CN\u001b[0m\u001b[0;34m(\u001b[0m\u001b[0mgrid_vec\u001b[0m\u001b[0;34m,\u001b[0m \u001b[0mr\u001b[0m\u001b[0;34m,\u001b[0m \u001b[0msigma\u001b[0m\u001b[0;34m,\u001b[0m \u001b[0mNx\u001b[0m\u001b[0;34m,\u001b[0m \u001b[0mNt\u001b[0m\u001b[0;34m,\u001b[0m \u001b[0mupper_bound\u001b[0m\u001b[0;34m,\u001b[0m \u001b[0mT\u001b[0m\u001b[0;34m)\u001b[0m\u001b[0;34m\u001b[0m\u001b[0m\n\u001b[0m",
      "\u001b[0;32m<ipython-input-11-a271efdecc66>\u001b[0m in \u001b[0;36mcompute_matrix_CN\u001b[0;34m(grid_vec, r, sigma, Nx, Nt, upper_bound, T)\u001b[0m\n\u001b[1;32m     21\u001b[0m     \u001b[0mB\u001b[0m\u001b[0;34m[\u001b[0m\u001b[0;34m-\u001b[0m\u001b[0;36m1\u001b[0m\u001b[0;34m]\u001b[0m \u001b[0;34m=\u001b[0m \u001b[0;36m0\u001b[0m\u001b[0;34m\u001b[0m\u001b[0m\n\u001b[1;32m     22\u001b[0m \u001b[0;34m\u001b[0m\u001b[0m\n\u001b[0;32m---> 23\u001b[0;31m     \u001b[0mv_new\u001b[0m \u001b[0;34m=\u001b[0m \u001b[0;34m(\u001b[0m\u001b[0;34m(\u001b[0m\u001b[0;36m1\u001b[0m\u001b[0;34m-\u001b[0m\u001b[0mr\u001b[0m\u001b[0;34m*\u001b[0m\u001b[0mdt\u001b[0m\u001b[0;34m)\u001b[0m\u001b[0;34m*\u001b[0m\u001b[0mnp\u001b[0m\u001b[0;34m.\u001b[0m\u001b[0midentity\u001b[0m\u001b[0;34m(\u001b[0m\u001b[0mNx\u001b[0m\u001b[0;34m)\u001b[0m \u001b[0;34m+\u001b[0m \u001b[0mc1\u001b[0m\u001b[0;34m*\u001b[0m\u001b[0mA\u001b[0m \u001b[0;34m+\u001b[0m \u001b[0mc2\u001b[0m\u001b[0;34m*\u001b[0m\u001b[0mB\u001b[0m\u001b[0;34m)\u001b[0m\u001b[0;34m.\u001b[0m\u001b[0mdot\u001b[0m\u001b[0;34m(\u001b[0m\u001b[0mgrid_vec\u001b[0m\u001b[0;34m)\u001b[0m\u001b[0;34m\u001b[0m\u001b[0m\n\u001b[0m\u001b[1;32m     24\u001b[0m \u001b[0;34m\u001b[0m\u001b[0m\n\u001b[1;32m     25\u001b[0m     \u001b[0mprint\u001b[0m\u001b[0;34m(\u001b[0m\u001b[0;34m(\u001b[0m\u001b[0;36m1\u001b[0m\u001b[0;34m-\u001b[0m\u001b[0mr\u001b[0m\u001b[0;34m*\u001b[0m\u001b[0mdt\u001b[0m\u001b[0;34m)\u001b[0m\u001b[0;34m*\u001b[0m\u001b[0mnp\u001b[0m\u001b[0;34m.\u001b[0m\u001b[0midentity\u001b[0m\u001b[0;34m(\u001b[0m\u001b[0mNx\u001b[0m\u001b[0;34m)\u001b[0m \u001b[0;34m+\u001b[0m \u001b[0mc1\u001b[0m\u001b[0;34m*\u001b[0m\u001b[0mA\u001b[0m \u001b[0;34m+\u001b[0m \u001b[0mc2\u001b[0m\u001b[0;34m*\u001b[0m\u001b[0mB\u001b[0m\u001b[0;34m)\u001b[0m\u001b[0;34m\u001b[0m\u001b[0m\n",
      "\u001b[0;31mNameError\u001b[0m: name 'c1' is not defined"
     ]
    }
   ],
   "source": [
    "grid_vec = initialize_grid(K, Nx, upper_bound, 'dirichlet')\n",
    "\n",
    "#Not impemented - Matrix vector notation will have A and B both sparse\n",
    "\n",
    "#This will give a system of equations to be solved simulataneously\n",
    "\n",
    "def compute_matrix_CN(grid_vec, r, sigma, Nx, Nt, upper_bound, T):\n",
    "    \n",
    "    a = (r - 0.5*(sigma**2))*dt/(4*dx)\n",
    "    b = (1/4)*(sigma**2)*(dt/dx**2)\n",
    "    c = r*dt/2\n",
    "\n",
    "    A = sp.diags((1, 0, -1), offsets= (-1, 0, 1), shape=(Nx, Nx))\n",
    "    A = sp.lil_matrix(A)\n",
    "    A[0] = 0\n",
    "    A[-1] = 0\n",
    "\n",
    "    B = sp.diags((1, -2, 1), offsets=(-1, 0, 1), shape=(Nx, Nx))\n",
    "    B = sp.lil_matrix(B)\n",
    "    B[0] = 0\n",
    "    B[-1] = 0\n",
    "\n",
    "    v_new = ((1-r*dt)*np.identity(Nx) + c1*A + c2*B).dot(grid_vec)\n",
    "\n",
    "    print((1-r*dt)*np.identity(Nx) + c1*A + c2*B)\n",
    "    \n",
    "compute_matrix_CN(grid_vec, r, sigma, Nx, Nt, upper_bound, T)"
   ]
  },
  {
   "cell_type": "markdown",
   "metadata": {},
   "source": [
    "# FTCS simulation"
   ]
  },
  {
   "cell_type": "code",
   "execution_count": null,
   "metadata": {},
   "outputs": [],
   "source": [
    "Nx = 1000\n",
    "Nt = 1000\n",
    "\n",
    "\n",
    "def simulate_FTCS(r, sigma, Nx, Nt, upper_bound, T, K, boundary):\n",
    "    \n",
    "    grid_vec = initialize_grid(K, Nx, upper_bound, boundary)\n",
    "    values_each_t = [grid_vec]\n",
    "    \n",
    "    for i in range(Nt):\n",
    "        next_vec = FTCS_simulation(K, r, sigma, Nx, Nt, upper_bound, T)\n",
    "        values_each_t.append(next_vec)\n",
    "        \n",
    "    return values_each_t[-1]\n",
    "\n",
    "\n",
    "values = simulate_FTCS(r, sigma, Nx, Nt, upper_bound, T, K, 'dirichlet')   \n",
    "\n",
    "print('For an initial ')\n",
    "        "
   ]
  },
  {
   "cell_type": "markdown",
   "metadata": {},
   "source": [
    "# comparison with previous work"
   ]
  },
  {
   "cell_type": "code",
   "execution_count": 59,
   "metadata": {},
   "outputs": [
    {
     "name": "stdout",
     "output_type": "stream",
     "text": [
      "14.230543210539231\n",
      "0.6153855466784359\n"
     ]
    }
   ],
   "source": [
    "#initial vectors\n",
    "# Option pricing using black scholes analytical\n",
    "from scipy.stats import norm\n",
    "\n",
    "r = 0.04\n",
    "sigma = 0.30\n",
    "T = 1\n",
    "K = 99\n",
    "S = 100\n",
    "\n",
    "\n",
    "def BS_option(S, K, T, r, sigma):\n",
    "    d1 = np.log(S/K)+(r+sigma**2/2)*T / sigma*np.sqrt(T)\n",
    "    d2 = d1-sigma*np.sqrt(T)\n",
    "\n",
    "    return max(0, S*norm.cdf(d1)-K*np.exp(-r*T)*norm.cdf(d2))\n",
    "\n",
    "def BS_delta(S):\n",
    "    d1 = np.log(S/K)+(r+sigma**2/2)*T / sigma*np.sqrt(T)\n",
    "    \n",
    "    return norm.cdf(d1)\n",
    "\n",
    "Xs = initialize_grid(K, Nx, upper_bound, 'dirichlet')\n",
    "\n",
    "Nx = 1000\n",
    "prices = np.linspace(0, 6, Nx)\n",
    "\n",
    "print(BS_option(100, K, T, r, sigma))\n",
    "print(BS_delta(100))"
   ]
  },
  {
   "cell_type": "markdown",
   "metadata": {},
   "source": [
    "# Calculating Delta using scheme values"
   ]
  },
  {
   "cell_type": "code",
   "execution_count": 88,
   "metadata": {},
   "outputs": [
    {
     "data": {
      "text/plain": [
       "[<matplotlib.lines.Line2D at 0x7feb864a3dd8>]"
      ]
     },
     "execution_count": 88,
     "metadata": {},
     "output_type": "execute_result"
    },
    {
     "data": {
      "image/png": "[encoded data removed]",
      "text/plain": [
       "<Figure size 432x288 with 1 Axes>"
      ]
     },
     "metadata": {
      "needs_background": "light"
     },
     "output_type": "display_data"
    }
   ],
   "source": [
    "option_values = FTCS_simulation(K, r, sigma, Nx, Nt, upper_bound, T)\n",
    "\n",
    "def deltas():\n",
    "    \n",
    "    #run FTCS simulation to find option values\n",
    "    option_values = FTCS_simulation(K, r, sigma, Nx, Nt, upper_bound, T)\n",
    "    \n",
    "    dx = upper_bound/Nx\n",
    "    \n",
    "    deltas = []\n",
    "    \n",
    "    for i in range(len(option_values)):\n",
    "        if i == 0:\n",
    "            deltas.append(0)\n",
    "        else:\n",
    "            dV = option_values[i] - option_values[i-1]\n",
    "            dS = np.exp(dx)\n",
    "            delta = dV/dS\n",
    "            deltas.append(delta)\n",
    "        \n",
    "    return deltas\n",
    "        \n",
    "#print(deltas())\n",
    "\n",
    "import matplotlib.pyplot as plt\n",
    "\n",
    "prices = [np.exp(i) for i in np.linspace(0, 6, Nx)]\n",
    "\n",
    "plt.plot(prices, deltas())"
   ]
  }
 ],
 "metadata": {
  "kernelspec": {
   "display_name": "Python 3",
   "language": "python",
   "name": "python3"
  },
  "language_info": {
   "codemirror_mode": {
    "name": "ipython",
    "version": 3
   },
   "file_extension": ".py",
   "mimetype": "text/x-python",
   "name": "python",
   "nbconvert_exporter": "python",
   "pygments_lexer": "ipython3",
   "version": "3.7.0"
  }
 },
 "nbformat": 4,
 "nbformat_minor": 2
}
