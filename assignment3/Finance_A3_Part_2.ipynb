{
 "cells": [
  {
   "cell_type": "markdown",
   "metadata": {},
   "source": [
    "# Determining bounds [-M1, M2]"
   ]
  },
  {
   "cell_type": "code",
   "execution_count": 6,
   "metadata": {},
   "outputs": [
    {
     "data": {
      "text/plain": [
       "[<matplotlib.lines.Line2D at 0x1996705cef0>]"
      ]
     },
     "execution_count": 6,
     "metadata": {},
     "output_type": "execute_result"
    },
    {
     "data": {
      "image/png": "[encoded data removed]",
      "text/plain": [
       "<Figure size 432x288 with 1 Axes>"
      ]
     },
     "metadata": {
      "needs_background": "light"
     },
     "output_type": "display_data"
    }
   ],
   "source": [
    "import numpy as np\n",
    "import matplotlib.pyplot as plt\n",
    "\n",
    "x = np.linspace(0.1, 2000, 100)\n",
    "y = np.log(x)\n",
    "\n",
    "plt.plot(x, y)"
   ]
  },
  {
   "cell_type": "markdown",
   "metadata": {},
   "source": [
    "# Variables"
   ]
  },
  {
   "cell_type": "code",
   "execution_count": 34,
   "metadata": {},
   "outputs": [
    {
     "name": "stdout",
     "output_type": "stream",
     "text": [
      "403.4287934927351\n"
     ]
    }
   ],
   "source": [
    "Nx = 100\n",
    "Nt = 100\n",
    "\n",
    "r = 0.04\n",
    "sigma = 0.30\n",
    "T = 1\n",
    "K = 99\n",
    "s_0 = 100\n",
    "\n",
    "x = np.linspace(0, 6, Nx)\n",
    "upper_bound = np.exp(max(x))\n",
    "\n",
    "dt = T/Nt\n",
    "dx = upper_bound/Nx\n",
    "\n",
    "initial_values = [max(0, np.exp(i) - K) for i in x]\n",
    "\n",
    "print(upper_bound)"
   ]
  },
  {
   "cell_type": "markdown",
   "metadata": {},
   "source": [
    "# Initializing first row of grid points and boundary conditions"
   ]
  },
  {
   "cell_type": "code",
   "execution_count": 28,
   "metadata": {},
   "outputs": [],
   "source": [
    "#Vector of grid points\n",
    "def initialize_grid(K, Nx, upper_bound, boundary):\n",
    "    grid_vec = [max(0, np.exp(i) - K) for i in np.linspace(0, 6, Nx)]\n",
    "    \n",
    "    #Dirichlet Boundary conditions\n",
    "    if boundary == 'dirichlet':\n",
    "        grid_vec[0] = 0\n",
    "        grid_vec[-1] = upper_bound\n",
    "        \n",
    "    #if boundary == 'Neumann':\n",
    "        #grid_vec[0]\n",
    "    \n",
    "    return(grid_vec)"
   ]
  },
  {
   "cell_type": "markdown",
   "metadata": {},
   "source": [
    "# FTCS"
   ]
  },
  {
   "cell_type": "code",
   "execution_count": 37,
   "metadata": {},
   "outputs": [
    {
     "data": {
      "text/plain": [
       "array([ 0.00000000e+00,  0.00000000e+00,  0.00000000e+00,  0.00000000e+00,\n",
       "        0.00000000e+00,  0.00000000e+00,  0.00000000e+00,  0.00000000e+00,\n",
       "        0.00000000e+00,  0.00000000e+00,  0.00000000e+00,  0.00000000e+00,\n",
       "        0.00000000e+00,  0.00000000e+00,  0.00000000e+00,  0.00000000e+00,\n",
       "        0.00000000e+00,  0.00000000e+00,  0.00000000e+00,  0.00000000e+00,\n",
       "        0.00000000e+00,  0.00000000e+00,  0.00000000e+00,  0.00000000e+00,\n",
       "        0.00000000e+00,  0.00000000e+00,  0.00000000e+00,  0.00000000e+00,\n",
       "        0.00000000e+00,  0.00000000e+00,  0.00000000e+00,  0.00000000e+00,\n",
       "        0.00000000e+00,  0.00000000e+00,  0.00000000e+00,  0.00000000e+00,\n",
       "        0.00000000e+00,  0.00000000e+00,  0.00000000e+00,  0.00000000e+00,\n",
       "        0.00000000e+00,  0.00000000e+00,  0.00000000e+00,  0.00000000e+00,\n",
       "        0.00000000e+00,  0.00000000e+00,  0.00000000e+00,  0.00000000e+00,\n",
       "        0.00000000e+00,  0.00000000e+00,  0.00000000e+00,  0.00000000e+00,\n",
       "        0.00000000e+00,  0.00000000e+00,  0.00000000e+00,  0.00000000e+00,\n",
       "        0.00000000e+00,  0.00000000e+00,  0.00000000e+00,  0.00000000e+00,\n",
       "        0.00000000e+00,  0.00000000e+00,  0.00000000e+00,  0.00000000e+00,\n",
       "        0.00000000e+00,  0.00000000e+00,  0.00000000e+00,  0.00000000e+00,\n",
       "        0.00000000e+00,  0.00000000e+00,  0.00000000e+00,  0.00000000e+00,\n",
       "        0.00000000e+00,  0.00000000e+00,  0.00000000e+00, -4.35030425e-02,\n",
       "        7.95284823e-01,  6.82418919e+00,  1.34336398e+01,  2.04560508e+01,\n",
       "        2.79172239e+01,  3.58445733e+01,  4.42672256e+01,  5.32161276e+01,\n",
       "        6.27241595e+01,  7.28262558e+01,  8.35595340e+01,  9.49634304e+01,\n",
       "        1.07079845e+02,  1.19953297e+02,  1.33631086e+02,  1.48163467e+02,\n",
       "        1.63603835e+02,  1.80008922e+02,  1.97439003e+02,  2.15958120e+02,\n",
       "        2.35634317e+02,  2.56539889e+02,  2.74797120e+02,  4.03428793e+02])"
      ]
     },
     "execution_count": 37,
     "metadata": {},
     "output_type": "execute_result"
    }
   ],
   "source": [
    "import scipy.sparse as sp\n",
    "import numpy as np\n",
    "\n",
    "#Returns next time period of option values (grid_vec t+1) \n",
    "#This does the iteration NOT in matrix vector notation\n",
    "def ftcs_iteration(r, sigma, Nx, Nt, upper_bound, T, K, boundary):\n",
    "    \n",
    "    grid_vec = initialize_grid(K, Nx, upper_bound, 'dirichlet')\n",
    "    \n",
    "    dx = upper_bound/Nx\n",
    "    dt = T/Nt\n",
    "    \n",
    "    c1 = r - 0.5*(sigma**2)*(dt/dx**2)\n",
    "    c2 = 0.5*(sigma**2)*(dt/dx**2)\n",
    "    \n",
    "    A = sp.diags((1, 0, -1), offsets= (-1, 0, 1), shape=(Nx, Nx))\n",
    "    A = sp.lil_matrix(A)\n",
    "    A[0] = 0\n",
    "    A[-1] = 0\n",
    "    \n",
    "    B = sp.diags((1, -2, 1), offsets=(-1, 0, 1), shape=(Nx, Nx))\n",
    "    B = sp.lil_matrix(B)\n",
    "    B[0] = 0\n",
    "    B[-1] = 0\n",
    "    \n",
    "    new_grid_vec = (1-r*dt)*np.identity(Nx).dot(grid_vec) + (c1*A.dot(grid_vec) + c2*B.dot(grid_vec))\n",
    "    new_grid_vec[-1] = upper_bound\n",
    "    \n",
    "    return new_grid_vec\n",
    "\n",
    "ftcs_iteration(r, sigma, Nx, Nt, upper_bound, T, K, 'dirichlet')"
   ]
  },
  {
   "cell_type": "markdown",
   "metadata": {},
   "source": [
    "# FTCS - Compute Matrices A and B for $B*V^{n+1} = A*V^n$\n"
   ]
  },
  {
   "cell_type": "code",
   "execution_count": 58,
   "metadata": {},
   "outputs": [
    {
     "name": "stdout",
     "output_type": "stream",
     "text": [
      "[[ 0.9996     0.         0.        ...  0.         0.         0.       ]\n",
      " [ 0.04       0.9995447 -0.0399447 ...  0.         0.         0.       ]\n",
      " [ 0.         0.04       0.9995447 ...  0.         0.         0.       ]\n",
      " ...\n",
      " [ 0.         0.         0.        ...  0.9995447 -0.0399447  0.       ]\n",
      " [ 0.         0.         0.        ...  0.04       0.9995447 -0.0399447]\n",
      " [ 0.         0.         0.        ...  0.         0.         0.9995447]]\n"
     ]
    }
   ],
   "source": [
    "#For FTCS the scheme can be simplified to two tridiagonal matrix multiplications\n",
    "\n",
    "#In this case B is the identity matrix, so only the diagonals of A will be computed here\n",
    "\n",
    "def compute_matrix_FTCS(r, sigma, Nx, Nt, upper_bound, T):\n",
    "    \n",
    "    grid_vec = initialize_grid(K, Nx, upper_bound, 'dirichlet')\n",
    "    \n",
    "    c1 = r - 0.5*(sigma**2)*(dt/dx**2)\n",
    "    c2 = 0.5*(sigma**2)*(dt/dx**2)\n",
    "\n",
    "    A = sp.diags((1, 0, -1), offsets= (-1, 0, 1), shape=(Nx, Nx))\n",
    "    A = sp.lil_matrix(A)\n",
    "    A[0,0], A[0,1], A[0,2]  = 0, 0, 0\n",
    "    A[99, 98] = 0\n",
    "    #print(np.array(A))\n",
    "\n",
    "    \n",
    "    B = sp.diags((1, -2, 1), offsets=(-1, 0, 1), shape=(Nx, Nx))\n",
    "    B = sp.lil_matrix(B)\n",
    "    B[0,0], B[0,1], B[0,2]  = 0, 0, 0\n",
    "    B[99, 98] = 0\n",
    "\n",
    "    print((1-r*dt)*np.identity(Nx) + c1*A + c2*B)\n",
    "    \n",
    "compute_matrix_FTCS(r, sigma, Nx, Nt, upper_bound, T)\n"
   ]
  },
  {
   "cell_type": "markdown",
   "metadata": {},
   "source": [
    "# Crank Nicholson"
   ]
  },
  {
   "cell_type": "code",
   "execution_count": null,
   "metadata": {},
   "outputs": [],
   "source": [
    "def compute_matrix_CN(r, sigma, Nx, Nt, upper_bound, T):\n",
    "    \n",
    "    grid_vec = initialize_grid(K, Nx, upper_bound, 'dirichlet')\n",
    "    \n",
    "    c1 = r - 0.5*(sigma**2)*(dt/dx**2)\n",
    "    c2 = 0.5*(sigma**2)*(dt/dx**2)\n",
    "\n",
    "    A = sp.sparse.diags((1, 0, -1), offsets= (-1, 0, 1), shape=(Nx, Nx))\n",
    "    A = sp.lil_matrix(A)\n",
    "    A[0] = 0\n",
    "    A[-1] = 0\n",
    "\n",
    "    B = sp.sparse.diags((1, -2, 1), offsets=(-1, 0, 1), shape=(Nx, Nx))\n",
    "    B = sp.lil_matrix(B)\n",
    "    B[0] = 0\n",
    "    B[-1] = 0\n",
    "\n",
    "    v_new = ((1-r*dt)*np.identity(Nx) + c1*A + c2*B).dot(grid_vec)\n",
    "\n",
    "    print((1-r*dt)*np.identity(Nx) + c1*A + c2*B)\n",
    "    \n",
    "compute_matrix_CN(r, sigma, Nx, Nt, upper_bound, T)"
   ]
  },
  {
   "cell_type": "code",
   "execution_count": null,
   "metadata": {},
   "outputs": [],
   "source": []
  },
  {
   "cell_type": "code",
   "execution_count": null,
   "metadata": {},
   "outputs": [],
   "source": []
  },
  {
   "cell_type": "code",
   "execution_count": null,
   "metadata": {},
   "outputs": [],
   "source": []
  },
  {
   "cell_type": "code",
   "execution_count": null,
   "metadata": {},
   "outputs": [],
   "source": []
  }
 ],
 "metadata": {
  "kernelspec": {
   "display_name": "Python 3",
   "language": "python",
   "name": "python3"
  },
  "language_info": {
   "codemirror_mode": {
    "name": "ipython",
    "version": 3
   },
   "file_extension": ".py",
   "mimetype": "text/x-python",
   "name": "python",
   "nbconvert_exporter": "python",
   "pygments_lexer": "ipython3",
   "version": "3.7.1"
  }
 },
 "nbformat": 4,
 "nbformat_minor": 2
}
