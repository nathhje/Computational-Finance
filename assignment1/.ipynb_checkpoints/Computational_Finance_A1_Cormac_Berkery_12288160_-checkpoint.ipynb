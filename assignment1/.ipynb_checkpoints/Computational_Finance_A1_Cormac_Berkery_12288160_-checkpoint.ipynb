{
 "cells": [
  {
   "cell_type": "code",
   "execution_count": 41,
   "metadata": {},
   "outputs": [],
   "source": [
    "import numpy as np\n",
    "import random\n",
    "\n",
    "#strike\n",
    "K = 99\n",
    "\n",
    "#Volatility\n",
    "vol = 0.20\n",
    "\n",
    "#Stock Price t=0\n",
    "s_0 = 100\n",
    "\n",
    "#Interest rate\n",
    "r = 0.06\n",
    "\n",
    "#Up and down movements for the given volatility\n",
    "up_val = np.exp(vol*np.sqrt(dt))\n",
    "down_val = np.exp(-vol*np.sqrt(dt))\n",
    "\n",
    "#Probability of movement\n",
    "p = (np.exp(r*dt) - down_val)/(up_val - down_val)\n",
    "\n",
    "#Time to maturity is one year\n",
    "T = 1\n",
    "\n",
    "steps = 50\n",
    "\n",
    "#time steps\n",
    "dt = T/steps\n",
    "\n",
    "\n",
    "\n",
    "\n"
   ]
  },
  {
   "cell_type": "code",
   "execution_count": 42,
   "metadata": {},
   "outputs": [],
   "source": [
    "#Final price of stock\n",
    "def fin_stock_price(s_0, power):\n",
    "    return s_0*(np.exp(vol*np.sqrt(dt))**(power))\n",
    "\n",
    "#Price of option at expiration\n",
    "def expiration_option_price(K, s_T):\n",
    "    return max(0, K - s_T)\n",
    "\n",
    "def fair_value(r, dt, p, prev_fair_val_1, prev_fair_val_2):\n",
    "    return np.exp(-r*dt)*(p*(prev_fair_val_1) + (1 - p)*prev_fair_val_2)\n",
    "\n",
    "\n",
    "\n",
    "\n"
   ]
  },
  {
   "cell_type": "code",
   "execution_count": 58,
   "metadata": {},
   "outputs": [
    {
     "data": {
      "text/plain": [
       "[74.68832655657853,\n",
       " 73.27340797481193,\n",
       " 71.77614234286438,\n",
       " 70.19173713291065,\n",
       " 68.51512089610893,\n",
       " 66.7409270296363,\n",
       " 64.86347659897977,\n",
       " 62.87676016049932,\n",
       " 60.7744185260796,\n",
       " 58.549722408300894,\n",
       " 56.19555088097646,\n",
       " 53.70436858611153,\n",
       " 51.06820161432687,\n",
       " 48.278611981543655,\n",
       " 45.32667062023324,\n",
       " 42.20292879878074,\n",
       " 38.89738787748017,\n",
       " 35.399467304354204,\n",
       " 31.697970748358202,\n",
       " 27.78105026156568,\n",
       " 23.636168355623482,\n",
       " 19.250057871089467,\n",
       " 14.60867951119954,\n",
       " 9.697176904136711,\n",
       " 4.499829049962415,\n",
       " 0,\n",
       " 0,\n",
       " 0,\n",
       " 0,\n",
       " 0,\n",
       " 0,\n",
       " 0,\n",
       " 0,\n",
       " 0,\n",
       " 0,\n",
       " 0,\n",
       " 0,\n",
       " 0,\n",
       " 0,\n",
       " 0,\n",
       " 0,\n",
       " 0,\n",
       " 0,\n",
       " 0,\n",
       " 0,\n",
       " 0,\n",
       " 0,\n",
       " 0,\n",
       " 0,\n",
       " 0,\n",
       " 0]"
      ]
     },
     "execution_count": 58,
     "metadata": {},
     "output_type": "execute_result"
    }
   ],
   "source": [
    "def calculate_prev_row():\n",
    "    row_values = []\n",
    "    prev_row_values = row_list[len(row_list) - 1]\n",
    "    for i in range(len(prev_row_values) -1):\n",
    "        #print(i)\n",
    "        fv = fair_value(r, dt, p, prev_row_values[i], prev_row_values[i+1])\n",
    "        row_values.append(fv)\n",
    "    row_list.append(row_values)\n",
    "\n",
    "    \n",
    "def option_pricer(steps):\n",
    "    dt = T/steps\n",
    "    row_list = []\n",
    "    leaf_nodes = []\n",
    "    for i in range(-steps, steps+1, 2):\n",
    "        s_T = fin_stock_price(s_0, i)\n",
    "        end_option_price = expiration_option_price(K, s_T)\n",
    "        leaf_nodes.append(end_option_price)\n",
    "    row_list.append(leaf_nodes)\n",
    "\n",
    "\n",
    "\n",
    "\n",
    "    for i in range(steps):\n",
    "        calculate_prev_row()\n",
    "\n",
    "    return row_list[-1]\n",
    "    \n",
    "option_pricer(50)\n",
    "    \n",
    "\n",
    "\n",
    "\n"
   ]
  },
  {
   "cell_type": "markdown",
   "metadata": {},
   "source": [
    "# Convergence of method as steps increases"
   ]
  },
  {
   "cell_type": "code",
   "execution_count": 57,
   "metadata": {},
   "outputs": [
    {
     "name": "stdout",
     "output_type": "stream",
     "text": [
      "[2.130353504952427]\n"
     ]
    }
   ],
   "source": [
    "steps = 3000\n",
    "\n",
    "\n",
    "row_list = []\n",
    "leaf_nodes = []\n",
    "for i in range(-steps, steps+1, 2):\n",
    "    s_T = fin_stock_price(s_0, i)\n",
    "    end_option_price = expiration_option_price(K, s_T)\n",
    "    leaf_nodes.append(end_option_price)\n",
    "row_list.append(leaf_nodes)\n",
    "\n",
    "for i in range(steps):\n",
    "    calculate_prev_row()\n",
    "    \n",
    "print(row_list[-1])"
   ]
  },
  {
   "cell_type": "code",
   "execution_count": null,
   "metadata": {},
   "outputs": [],
   "source": []
  }
 ],
 "metadata": {
  "kernelspec": {
   "display_name": "Python 3",
   "language": "python",
   "name": "python3"
  },
  "language_info": {
   "codemirror_mode": {
    "name": "ipython",
    "version": 3
   },
   "file_extension": ".py",
   "mimetype": "text/x-python",
   "name": "python",
   "nbconvert_exporter": "python",
   "pygments_lexer": "ipython3",
   "version": "3.7.1"
  }
 },
 "nbformat": 4,
 "nbformat_minor": 2
}
