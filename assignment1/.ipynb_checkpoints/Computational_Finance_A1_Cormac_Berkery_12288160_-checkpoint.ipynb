{
 "cells": [
  {
   "cell_type": "code",
   "execution_count": 1,
   "metadata": {},
   "outputs": [],
   "source": [
    "import numpy as np\n",
    "import random\n",
    "\n",
    "#strike\n",
    "K = 99\n",
    "\n",
    "#Volatility\n",
    "vol = 0.20\n",
    "\n",
    "#Stock Price t=0\n",
    "s_0 = 100\n",
    "\n",
    "#Interest rate\n",
    "r = 0.06\n",
    "\n",
    "\n",
    "#Time to maturity is one year\n",
    "T = 1\n",
    "\n",
    "steps =500\n",
    "\n",
    "#time steps\n",
    "dt = T/steps\n",
    "\n",
    "#Up and down movements for the given volatility\n",
    "up_val = np.exp(vol*np.sqrt(dt))\n",
    "down_val = np.exp(-vol*np.sqrt(dt))\n",
    "\n",
    "#Probability of movement\n",
    "p = (np.exp(r*dt) - down_val)/(up_val - down_val)\n"
   ]
  },
  {
   "cell_type": "code",
   "execution_count": 2,
   "metadata": {},
   "outputs": [],
   "source": [
    "#Final price of stock\n",
    "def fin_stock_price(s_0, power):\n",
    "    return s_0*(np.exp(vol*np.sqrt(dt))**(power))\n",
    "\n",
    "#Price of option at expiration\n",
    "def expiration_option_price(K, s_T):\n",
    "    return max(0, K - s_T)\n",
    "\n",
    "def fair_value(r, dt, p, prev_fair_val_1, prev_fair_val_2):\n",
    "    return np.exp(-r*dt)*(p*(prev_fair_val_1) + (1 - p)*prev_fair_val_2)\n"
   ]
  },
  {
   "cell_type": "code",
   "execution_count": 3,
   "metadata": {},
   "outputs": [
    {
     "data": {
      "text/plain": [
       "7.864214092995762"
      ]
     },
     "execution_count": 3,
     "metadata": {},
     "output_type": "execute_result"
    }
   ],
   "source": [
    "row_list = []\n",
    "\n",
    "def calculate_prev_row():\n",
    "    row_values = []\n",
    "    #print(len(row_list))\n",
    "    prev_row_values = row_list[len(row_list) - 1]\n",
    "    for i in range(len(prev_row_values) -1):\n",
    "        #print(i)\n",
    "        fv = fair_value(r, dt, p, prev_row_values[i], prev_row_values[i+1])\n",
    "        row_values.append(fv)\n",
    "    row_list.append(row_values)\n",
    "\n",
    "    \n",
    "def option_pricer(steps):\n",
    "    dt = T/steps\n",
    "    #row_list = []\n",
    "    leaf_nodes = []\n",
    "    for i in range(-steps, steps+1, 2):\n",
    "        s_T = fin_stock_price(s_0, i)\n",
    "        end_option_price = expiration_option_price(K, s_T)\n",
    "        leaf_nodes.append(end_option_price)\n",
    "    row_list.append(leaf_nodes)\n",
    "\n",
    "\n",
    "\n",
    "\n",
    "    for i in range(steps):\n",
    "        calculate_prev_row()\n",
    "\n",
    "    return row_list[-1][0]\n",
    "    \n",
    "option_pricer(steps)\n",
    "    \n"
   ]
  },
  {
   "cell_type": "markdown",
   "metadata": {},
   "source": [
    "# Convergence of method as steps increases"
   ]
  },
  {
   "cell_type": "code",
   "execution_count": null,
   "metadata": {},
   "outputs": [],
   "source": [
    "import matplotlib.pyplot as plt\n",
    "\n",
    "xlist = [i*250 for i in range(1, 15)]\n",
    "ylist = [option_pricer(i*250) for i in range(1, 15)]\n",
    "\n",
    "plt.figure()\n",
    "plt.title('Option price as a function of steps')\n",
    "plt.plot(xlist, ylist)"
   ]
  },
  {
   "cell_type": "markdown",
   "metadata": {},
   "source": [
    "# Compute the hedge parameter"
   ]
  },
  {
   "cell_type": "code",
   "execution_count": null,
   "metadata": {},
   "outputs": [],
   "source": []
  },
  {
   "cell_type": "markdown",
   "metadata": {},
   "source": [
    "# American Option"
   ]
  },
  {
   "cell_type": "code",
   "execution_count": null,
   "metadata": {},
   "outputs": [],
   "source": []
  }
 ],
 "metadata": {
  "kernelspec": {
   "display_name": "Python 3",
   "language": "python",
   "name": "python3"
  },
  "language_info": {
   "codemirror_mode": {
    "name": "ipython",
    "version": 3
   },
   "file_extension": ".py",
   "mimetype": "text/x-python",
   "name": "python",
   "nbconvert_exporter": "python",
   "pygments_lexer": "ipython3",
   "version": "3.7.1"
  }
 },
 "nbformat": 4,
 "nbformat_minor": 2
}
