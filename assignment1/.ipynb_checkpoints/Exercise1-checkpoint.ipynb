{
 "cells": [
  {
   "cell_type": "code",
   "execution_count": 19,
   "metadata": {},
   "outputs": [],
   "source": [
    "import numpy as np\n",
    "import random\n",
    "\n",
    "#strike\n",
    "K = 99\n",
    "\n",
    "#Volatility\n",
    "vol = 0.20\n",
    "\n",
    "#Stock Price t=0\n",
    "s_0 = 100\n",
    "\n",
    "#Interest rate\n",
    "r = 0.06\n",
    "\n",
    "#Time to maturity is one year\n",
    "T = 1"
   ]
  },
  {
   "cell_type": "code",
   "execution_count": 84,
   "metadata": {},
   "outputs": [],
   "source": [
    "#Final price of stock\n",
    "def fin_stock_price(s_0, vol, power, dt):\n",
    "    return s_0*(np.exp(vol*np.sqrt(dt))**(power))\n",
    "\n",
    "#Price of option at expiration\n",
    "def expiration_option_price(K, s_T):\n",
    "    return max(0, s_T - K)\n",
    "\n",
    "def fair_value(r, dt, p, prev_fair_val_1, prev_fair_val_2):\n",
    "    return np.exp(-r*dt)*(p*(prev_fair_val_1) + (1 - p)*prev_fair_val_2)"
   ]
  },
  {
   "cell_type": "code",
   "execution_count": 87,
   "metadata": {},
   "outputs": [
    {
     "data": {
      "text/plain": [
       "[[89.22267774802904,\n",
       "  66.85843306030651,\n",
       "  47.15146350242719,\n",
       "  29.78603692182881,\n",
       "  14.483935833151634,\n",
       "  1.0,\n",
       "  0,\n",
       "  0,\n",
       "  0,\n",
       "  0,\n",
       "  0],\n",
       " [78.27928502880562,\n",
       "  57.285679115434945,\n",
       "  38.78649175535232,\n",
       "  22.485341090926266,\n",
       "  8.121060768121266,\n",
       "  0.5285580480548393,\n",
       "  0.0,\n",
       "  0.0,\n",
       "  0.0,\n",
       "  0.0],\n",
       " [68.03933348697541,\n",
       "  48.33236392909609,\n",
       "  30.966937348497698,\n",
       "  15.664836259820536,\n",
       "  4.538474612381162,\n",
       "  0.27937361016354184,\n",
       "  0.0,\n",
       "  0.0,\n",
       "  0.0],\n",
       " [58.45951535330279,\n",
       "  39.96032799322016,\n",
       "  23.659177328794105,\n",
       "  10.392253288432377,\n",
       "  2.528884499385717,\n",
       "  0.14766517006607527,\n",
       "  0.0,\n",
       "  0.0],\n",
       " [49.499178236394215,\n",
       "  32.13375165579582,\n",
       "  17.34242593016578,\n",
       "  6.670003479680794,\n",
       "  1.4053944724064016,\n",
       "  0.07804961405581064,\n",
       "  0.0],\n",
       " [41.12016237538964,\n",
       "  25.056757168541907,\n",
       "  12.271098057549956,\n",
       "  4.179638812810944,\n",
       "  0.7791615258843677,\n",
       "  0.04125375165677282],\n",
       " [33.39730884771325,\n",
       "  18.955654930672484,\n",
       "  8.431441967505677,\n",
       "  2.571850190861463,\n",
       "  0.43103406302168057],\n",
       " [26.475513926570596,\n",
       "  13.943662239703782,\n",
       "  5.65359968243309,\n",
       "  1.5600011955380213],\n",
       " [20.48406181708916, 10.001558929431623, 3.7143736380639103],\n",
       " [15.482340509428562, 7.015296506808311],\n",
       " [11.448655001751675]]"
      ]
     },
     "execution_count": 87,
     "metadata": {},
     "output_type": "execute_result"
    }
   ],
   "source": [
    "row_list = []\n",
    "\n",
    "def calculate_prev_row(dt, p):\n",
    "    row_values = []\n",
    "    #print(len(row_list))\n",
    "    prev_row_values = row_list[len(row_list) - 1]\n",
    "    #print(len(prev_row_values))\n",
    "    for i in range(len(prev_row_values) -1):\n",
    "        #print(i)\n",
    "        fv = fair_value(r, dt, p, prev_row_values[i], prev_row_values[i+1])\n",
    "        row_values.append(fv)\n",
    "    row_list.append(row_values)\n",
    "\n",
    "    \n",
    "def option_pricer_value(steps, vol):\n",
    "    dt = T/steps\n",
    "    up_val = np.exp(vol*np.sqrt(dt))\n",
    "    down_val = np.exp(-vol*np.sqrt(dt))\n",
    "    p = (np.exp(r*dt) - down_val)/(up_val - down_val)\n",
    "    #row_list = []\n",
    "    leaf_nodes = []\n",
    "    for i in range(steps, -steps-1, -2):\n",
    "        s_T = fin_stock_price(s_0, vol, i, dt)\n",
    "        end_option_price = expiration_option_price(K, s_T)\n",
    "        leaf_nodes.append(end_option_price)\n",
    "    row_list.append(leaf_nodes)\n",
    "    #print(leaf_nodes)\n",
    "\n",
    "    for i in range(steps):\n",
    "        calculate_prev_row(dt,p)\n",
    "\n",
    "    return row_list[-1][0]\n",
    "\n",
    "\n",
    "\n",
    "def option_pricer_list(steps, vol):\n",
    "    dt = T/steps\n",
    "    up_val = np.exp(vol*np.sqrt(dt))\n",
    "    down_val = np.exp(-vol*np.sqrt(dt))\n",
    "    p = (np.exp(r*dt) - down_val)/(up_val - down_val)\n",
    "    #row_list = []\n",
    "    leaf_nodes = []\n",
    "    for i in range(steps, -steps-1, -2):\n",
    "        s_T = fin_stock_price(s_0, vol, i, dt)\n",
    "        end_option_price = expiration_option_price(K, s_T)\n",
    "        leaf_nodes.append(end_option_price)\n",
    "    row_list.append(leaf_nodes)\n",
    "    #print(leaf_nodes)\n",
    "\n",
    "    for i in range(steps):\n",
    "        calculate_prev_row(dt,p)\n",
    "\n",
    "    return row_list\n",
    "    \n",
    "option_pricer_list(10, vol)"
   ]
  },
  {
   "cell_type": "markdown",
   "metadata": {},
   "source": [
    "# Convergence"
   ]
  },
  {
   "cell_type": "code",
   "execution_count": 82,
   "metadata": {},
   "outputs": [
    {
     "data": {
      "image/png": "[encoded data removed]",
      "text/plain": [
       "<Figure size 432x288 with 1 Axes>"
      ]
     },
     "metadata": {
      "needs_background": "light"
     },
     "output_type": "display_data"
    }
   ],
   "source": [
    "import matplotlib.pyplot as plt\n",
    "\n",
    "xlist = [i*2 for i in range(1, 50)]\n",
    "ylist = [option_pricer_value(i*2, vol) for i in range(1, 50)]\n",
    "\n",
    "plt.figure()\n",
    "plt.title('Option price as a function of steps')\n",
    "plt.xlabel('Iterations')\n",
    "plt.ylabel('Price')\n",
    "plt.plot(xlist, ylist)\n",
    "plt.show()"
   ]
  },
  {
   "cell_type": "markdown",
   "metadata": {},
   "source": [
    "# Effect of volatility"
   ]
  },
  {
   "cell_type": "code",
   "execution_count": 89,
   "metadata": {},
   "outputs": [
    {
     "data": {
      "image/png": "[encoded data removed]",
      "text/plain": [
       "<Figure size 432x288 with 1 Axes>"
      ]
     },
     "metadata": {
      "needs_background": "light"
     },
     "output_type": "display_data"
    }
   ],
   "source": [
    "xlist = [i for i in np.linspace(0.01, 0.20, 20)]\n",
    "ylist = [option_pricer_value(100, i) for i in np.linspace(0.01, 0.20, 20)]\n",
    "\n",
    "plt.figure()\n",
    "plt.title('Option price as a function of steps')\n",
    "plt.xlabel('Volatility')\n",
    "plt.ylabel('Price')\n",
    "plt.plot(xlist, ylist)\n",
    "plt.show()"
   ]
  },
  {
   "cell_type": "markdown",
   "metadata": {},
   "source": [
    "# Computational Complexity/Compute time"
   ]
  },
  {
   "cell_type": "code",
   "execution_count": 20,
   "metadata": {},
   "outputs": [
    {
     "data": {
      "image/png": "[encoded data removed]",
      "text/plain": [
       "<Figure size 432x288 with 1 Axes>"
      ]
     },
     "metadata": {
      "needs_background": "light"
     },
     "output_type": "display_data"
    }
   ],
   "source": [
    "from timeit import default_timer as timer\n",
    "\n",
    "time_list = []\n",
    "for i in range(1, 30):\n",
    "    start = timer()\n",
    "    option_pricer(i*50, vol)\n",
    "    end = timer()\n",
    "    time_list.append(end - start)\n",
    "    \n",
    "iter_list = [i*50 for i in range(1, 30)]\n",
    "\n",
    "plt.plot(iter_list, time_list)\n",
    "plt.show()\n",
    "    "
   ]
  },
  {
   "cell_type": "markdown",
   "metadata": {},
   "source": [
    "# Compute delta"
   ]
  },
  {
   "cell_type": "code",
   "execution_count": 79,
   "metadata": {},
   "outputs": [],
   "source": [
    "def calculate_delta(some_list_of_lists, s_0):\n",
    "    delta_list = []\n",
    "    #Powers of up movement, increasing by one with each list in some_list_of_lists \n",
    "    for j in range(len(some_list_of_lists)-1):\n",
    "        print(j)\n",
    "        deltas = []\n",
    "        #within each list\n",
    "        for i in range(len(some_list_of_lists[j]) - 1):\n",
    "            f_u = some_list_of_lists[j][i]\n",
    "            f_d = some_list_of_lists[j][i+1]\n",
    "            s_u = s_0*(np.exp(vol*np.sqrt(dt))**(len(some_list_of_lists[j]) -2*i))\n",
    "            s_d = s_0*(np.exp(vol*np.sqrt(dt))**(len(some_list_of_lists[j]) -2*i))\n",
    "            if f_u - f_d == 0:\n",
    "                delta = 0\n",
    "            if s_u - s_d == 0:\n",
    "                delta = 0\n",
    "            else:\n",
    "                delta = (f_u - f_d)/(s_u - s_d)\n",
    "            #print(delta)\n",
    "            deltas.append(delta)\n",
    "        delta_list.append(deltas)\n",
    "        \n",
    "\n"
   ]
  },
  {
   "cell_type": "code",
   "execution_count": 81,
   "metadata": {},
   "outputs": [
    {
     "name": "stdout",
     "output_type": "stream",
     "text": [
      "0\n"
     ]
    },
    {
     "ename": "NameError",
     "evalue": "name 'dt' is not defined",
     "output_type": "error",
     "traceback": [
      "\u001b[1;31m---------------------------------------------------------------------------\u001b[0m",
      "\u001b[1;31mNameError\u001b[0m                                 Traceback (most recent call last)",
      "\u001b[1;32m<ipython-input-81-419a9271c94e>\u001b[0m in \u001b[0;36m<module>\u001b[1;34m()\u001b[0m\n\u001b[0;32m      2\u001b[0m \u001b[0moption_pricer_list\u001b[0m\u001b[1;33m(\u001b[0m\u001b[1;36m5\u001b[0m\u001b[1;33m,\u001b[0m \u001b[0mvol\u001b[0m\u001b[1;33m)\u001b[0m\u001b[1;33m\u001b[0m\u001b[1;33m\u001b[0m\u001b[0m\n\u001b[0;32m      3\u001b[0m \u001b[1;33m\u001b[0m\u001b[0m\n\u001b[1;32m----> 4\u001b[1;33m \u001b[0mcalculate_delta\u001b[0m\u001b[1;33m(\u001b[0m\u001b[0mrow_list\u001b[0m\u001b[1;33m,\u001b[0m \u001b[1;36m100\u001b[0m\u001b[1;33m)\u001b[0m\u001b[1;33m\u001b[0m\u001b[1;33m\u001b[0m\u001b[0m\n\u001b[0m",
      "\u001b[1;32m<ipython-input-79-1d30bcd7baaf>\u001b[0m in \u001b[0;36mcalculate_delta\u001b[1;34m(some_list_of_lists, s_0)\u001b[0m\n\u001b[0;32m      9\u001b[0m             \u001b[0mf_u\u001b[0m \u001b[1;33m=\u001b[0m \u001b[0msome_list_of_lists\u001b[0m\u001b[1;33m[\u001b[0m\u001b[0mj\u001b[0m\u001b[1;33m]\u001b[0m\u001b[1;33m[\u001b[0m\u001b[0mi\u001b[0m\u001b[1;33m]\u001b[0m\u001b[1;33m\u001b[0m\u001b[1;33m\u001b[0m\u001b[0m\n\u001b[0;32m     10\u001b[0m             \u001b[0mf_d\u001b[0m \u001b[1;33m=\u001b[0m \u001b[0msome_list_of_lists\u001b[0m\u001b[1;33m[\u001b[0m\u001b[0mj\u001b[0m\u001b[1;33m]\u001b[0m\u001b[1;33m[\u001b[0m\u001b[0mi\u001b[0m\u001b[1;33m+\u001b[0m\u001b[1;36m1\u001b[0m\u001b[1;33m]\u001b[0m\u001b[1;33m\u001b[0m\u001b[1;33m\u001b[0m\u001b[0m\n\u001b[1;32m---> 11\u001b[1;33m             \u001b[0ms_u\u001b[0m \u001b[1;33m=\u001b[0m \u001b[0ms_0\u001b[0m\u001b[1;33m*\u001b[0m\u001b[1;33m(\u001b[0m\u001b[0mnp\u001b[0m\u001b[1;33m.\u001b[0m\u001b[0mexp\u001b[0m\u001b[1;33m(\u001b[0m\u001b[0mvol\u001b[0m\u001b[1;33m*\u001b[0m\u001b[0mnp\u001b[0m\u001b[1;33m.\u001b[0m\u001b[0msqrt\u001b[0m\u001b[1;33m(\u001b[0m\u001b[0mdt\u001b[0m\u001b[1;33m)\u001b[0m\u001b[1;33m)\u001b[0m\u001b[1;33m**\u001b[0m\u001b[1;33m(\u001b[0m\u001b[0mlen\u001b[0m\u001b[1;33m(\u001b[0m\u001b[0msome_list_of_lists\u001b[0m\u001b[1;33m[\u001b[0m\u001b[0mj\u001b[0m\u001b[1;33m]\u001b[0m\u001b[1;33m)\u001b[0m \u001b[1;33m-\u001b[0m\u001b[1;36m2\u001b[0m\u001b[1;33m*\u001b[0m\u001b[0mi\u001b[0m\u001b[1;33m)\u001b[0m\u001b[1;33m)\u001b[0m\u001b[1;33m\u001b[0m\u001b[1;33m\u001b[0m\u001b[0m\n\u001b[0m\u001b[0;32m     12\u001b[0m             \u001b[0ms_d\u001b[0m \u001b[1;33m=\u001b[0m \u001b[0ms_0\u001b[0m\u001b[1;33m*\u001b[0m\u001b[1;33m(\u001b[0m\u001b[0mnp\u001b[0m\u001b[1;33m.\u001b[0m\u001b[0mexp\u001b[0m\u001b[1;33m(\u001b[0m\u001b[0mvol\u001b[0m\u001b[1;33m*\u001b[0m\u001b[0mnp\u001b[0m\u001b[1;33m.\u001b[0m\u001b[0msqrt\u001b[0m\u001b[1;33m(\u001b[0m\u001b[0mdt\u001b[0m\u001b[1;33m)\u001b[0m\u001b[1;33m)\u001b[0m\u001b[1;33m**\u001b[0m\u001b[1;33m(\u001b[0m\u001b[0mlen\u001b[0m\u001b[1;33m(\u001b[0m\u001b[0msome_list_of_lists\u001b[0m\u001b[1;33m[\u001b[0m\u001b[0mj\u001b[0m\u001b[1;33m]\u001b[0m\u001b[1;33m)\u001b[0m \u001b[1;33m-\u001b[0m\u001b[1;36m2\u001b[0m\u001b[1;33m*\u001b[0m\u001b[0mi\u001b[0m\u001b[1;33m)\u001b[0m\u001b[1;33m)\u001b[0m\u001b[1;33m\u001b[0m\u001b[1;33m\u001b[0m\u001b[0m\n\u001b[0;32m     13\u001b[0m             \u001b[1;32mif\u001b[0m \u001b[0mf_u\u001b[0m \u001b[1;33m-\u001b[0m \u001b[0mf_d\u001b[0m \u001b[1;33m==\u001b[0m \u001b[1;36m0\u001b[0m\u001b[1;33m:\u001b[0m\u001b[1;33m\u001b[0m\u001b[1;33m\u001b[0m\u001b[0m\n",
      "\u001b[1;31mNameError\u001b[0m: name 'dt' is not defined"
     ]
    }
   ],
   "source": [
    "row_list = []\n",
    "option_pricer_list(5, vol)\n",
    "\n",
    "calculate_delta(row_list, 100)"
   ]
  },
  {
   "cell_type": "markdown",
   "metadata": {},
   "source": [
    "# American Options"
   ]
  },
  {
   "cell_type": "code",
   "execution_count": null,
   "metadata": {},
   "outputs": [],
   "source": [
    "def american_stock_price(s_0, power, dt):\n",
    "    return s_0*(np.exp(vol*np.sqrt(dt))**(power))\n",
    "\n",
    "def american_fair_value(r, dt, p, prev_fair_val_1, prev_fair_val_2, K, s_t):\n",
    "    \n",
    "    return max(, np.exp(-r*dt)*(p*(prev_fair_val_1) + (1 - p)*prev_fair_val_2))\n",
    "    \n",
    "\n",
    "    "
   ]
  }
 ],
 "metadata": {
  "kernelspec": {
   "display_name": "Python 3",
   "language": "python",
   "name": "python3"
  },
  "language_info": {
   "codemirror_mode": {
    "name": "ipython",
    "version": 3
   },
   "file_extension": ".py",
   "mimetype": "text/x-python",
   "name": "python",
   "nbconvert_exporter": "python",
   "pygments_lexer": "ipython3",
   "version": "3.7.1"
  }
 },
 "nbformat": 4,
 "nbformat_minor": 2
}
