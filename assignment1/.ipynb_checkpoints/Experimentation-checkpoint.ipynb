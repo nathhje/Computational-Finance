{
 "cells": [
  {
   "cell_type": "code",
   "execution_count": 2,
   "metadata": {},
   "outputs": [],
   "source": [
    "import numpy as np\n",
    "import random\n",
    "\n",
    "#strike\n",
    "K = 99\n",
    "\n",
    "#Volatility\n",
    "vol = 0.20\n",
    "\n",
    "#Stock Price t=0\n",
    "s_0 = 100\n",
    "\n",
    "#Interest rate\n",
    "r = 0.06\n",
    "\n",
    "#Time to maturity is one year\n",
    "T = 1"
   ]
  },
  {
   "cell_type": "code",
   "execution_count": 3,
   "metadata": {},
   "outputs": [],
   "source": [
    "#Final price of stock\n",
    "def fin_stock_price(s_0, power, dt):\n",
    "    return s_0*(np.exp(vol*np.sqrt(dt))**(power))\n",
    "\n",
    "#Price of option at expiration\n",
    "def expiration_option_price(K, s_T):\n",
    "    return max(0, s_T - K)\n",
    "\n",
    "def fair_value(r, dt, p, prev_fair_val_1, prev_fair_val_2):\n",
    "    return np.exp(-r*dt)*(p*(prev_fair_val_1) + (1 - p)*prev_fair_val_2)"
   ]
  },
  {
   "cell_type": "code",
   "execution_count": 4,
   "metadata": {},
   "outputs": [
    {
     "data": {
      "text/plain": [
       "11.547481290156213"
      ]
     },
     "execution_count": 4,
     "metadata": {},
     "output_type": "execute_result"
    }
   ],
   "source": [
    "row_list = []\n",
    "\n",
    "def calculate_prev_row(dt,p):\n",
    "    row_values = []\n",
    "    #print(len(row_list))\n",
    "    prev_row_values = row_list[len(row_list) - 1]\n",
    "    #print(len(prev_row_values))\n",
    "    for i in range(len(prev_row_values) -1):\n",
    "        #print(i)\n",
    "        fv = fair_value(r, dt, p, prev_row_values[i], prev_row_values[i+1])\n",
    "        row_values.append(fv)\n",
    "    row_list.append(row_values)\n",
    "\n",
    "    \n",
    "def option_pricer(steps):\n",
    "    dt = T/steps\n",
    "    up_val = np.exp(vol*np.sqrt(dt))\n",
    "    down_val = np.exp(-vol*np.sqrt(dt))\n",
    "    p = (np.exp(r*dt) - down_val)/(up_val - down_val)\n",
    "    #row_list = []\n",
    "    leaf_nodes = []\n",
    "    for i in range(steps, -steps-1, -2):\n",
    "        s_T = fin_stock_price(s_0, i, dt)\n",
    "        end_option_price = expiration_option_price(K, s_T)\n",
    "        leaf_nodes.append(end_option_price)\n",
    "    row_list.append(leaf_nodes)\n",
    "    #print(leaf_nodes)\n",
    "\n",
    "\n",
    "\n",
    "\n",
    "    for i in range(steps):\n",
    "        calculate_prev_row(dt,p)\n",
    "\n",
    "    return row_list[-1][0]\n",
    "    \n",
    "option_pricer(500)"
   ]
  },
  {
   "cell_type": "code",
   "execution_count": null,
   "metadata": {},
   "outputs": [],
   "source": [
    "#stock\n",
    "#current price\n",
    "S = 100\n",
    "#Strike price\n",
    "K = 99\n",
    "\n",
    "#interest\n",
    "r = 0.06\n",
    "\n",
    "#volatility \n",
    "sigma = 0.20\n",
    "\n",
    "#time to maturity (in years)\n",
    "T = 1\n",
    "\n",
    "\n",
    "#pay-off at maturity\n",
    "#max(S(T) - K, 0)\n",
    "\n",
    "#defining d1 and d2\n",
    "def d1(S,K,T,r,sigma):\n",
    "    return(np.log(S/K)+(r+sigma**2/2)*T)/sigma*np.sqrt(T)\n",
    "def d2(S,K,T,r,sigma):\n",
    "    return d1(S,K,T,r,sigma)-sigma*np.sqrt(T)\n",
    "\n",
    "#Black-Scholes\n",
    "def Call(S, K, T, r, sigma):\n",
    "    return S*norm.cdf(d1(S,K,T,r,sigma))-K*np.exp(-r*T)*norm.cdf(d2(S,K,T,r,sigma))\n",
    "\n",
    "\n",
    "#hedge parameter\n",
    "delta_t = norm.cdf(d1(S,K,T,r,sigma))\n",
    "\n",
    "\n",
    "print(\"d1 = \" , d1(S,K,T,r,sigma))\n",
    "print(\"d2 = \", d2(S,K,T,r,sigma))\n",
    "print(\"option price = \", Call(S, K, T, r, sigma))\n",
    "print(\"hedge parameter = \", delta_t)\n"
   ]
  },
  {
   "cell_type": "code",
   "execution_count": 6,
   "metadata": {},
   "outputs": [
    {
     "data": {
      "text/plain": [
       "[<matplotlib.lines.Line2D at 0x26471aca898>]"
      ]
     },
     "execution_count": 6,
     "metadata": {},
     "output_type": "execute_result"
    },
    {
     "data": {
      "image/png": "[encoded data removed]",
      "text/plain": [
       "<Figure size 432x288 with 1 Axes>"
      ]
     },
     "metadata": {
      "needs_background": "light"
     },
     "output_type": "display_data"
    }
   ],
   "source": [
    "import matplotlib.pyplot as plt\n",
    "\n",
    "xlist = [i*250 for i in range(1, 15)]\n",
    "ylist = [option_pricer(i*250) for i in range(1, 15)]\n",
    "\n",
    "plt.figure()\n",
    "plt.title('Option price as a function of steps')\n",
    "plt.plot(xlist, ylist)"
   ]
  }
 ],
 "metadata": {
  "kernelspec": {
   "display_name": "Python 3",
   "language": "python",
   "name": "python3"
  },
  "language_info": {
   "codemirror_mode": {
    "name": "ipython",
    "version": 3
   },
   "file_extension": ".py",
   "mimetype": "text/x-python",
   "name": "python",
   "nbconvert_exporter": "python",
   "pygments_lexer": "ipython3",
   "version": "3.7.0"
  }
 },
 "nbformat": 4,
 "nbformat_minor": 2
}
